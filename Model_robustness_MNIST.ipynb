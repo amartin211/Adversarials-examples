{
  "nbformat": 4,
  "nbformat_minor": 0,
  "metadata": {
    "colab": {
      "name": "Model_robustness-MNIST.ipynb",
      "version": "0.3.2",
      "provenance": [],
      "collapsed_sections": []
    },
    "kernelspec": {
      "name": "python3",
      "display_name": "Python 3"
    },
    "accelerator": "GPU"
  },
  "cells": [
    {
      "cell_type": "code",
      "metadata": {
        "id": "HMnMq7HKNpgm",
        "colab_type": "code",
        "outputId": "5dc0fa77-8b01-41dd-e3d0-aeac83a4f20e",
        "colab": {
          "base_uri": "https://localhost:8080/",
          "height": 209
        }
      },
      "source": [
        "from google.colab import drive\n",
        "drive.mount('/content/gdrive')"
      ],
      "execution_count": 0,
      "outputs": [
        {
          "output_type": "stream",
          "text": [
            "Go to this URL in a browser: https://accounts.google.com/o/oauth2/auth?client_id=947318989803-6bn6qk8qdgf4n4g3pfee6491hc0brc4i.apps.googleusercontent.com&redirect_uri=urn%3Aietf%3Awg%3Aoauth%3A2.0%3Aoob&scope=email%20https%3A%2F%2Fwww.googleapis.com%2Fauth%2Fdocs.test%20https%3A%2F%2Fwww.googleapis.com%2Fauth%2Fdrive%20https%3A%2F%2Fwww.googleapis.com%2Fauth%2Fdrive.photos.readonly%20https%3A%2F%2Fwww.googleapis.com%2Fauth%2Fpeopleapi.readonly&response_type=code\n",
            "\n",
            "Enter your authorization code:\n",
            "··········\n",
            "Mounted at /content/gdrive\n"
          ],
          "name": "stdout"
        }
      ]
    },
    {
      "cell_type": "code",
      "metadata": {
        "id": "rWw4eCqzrltY",
        "colab_type": "code",
        "outputId": "585c2c7a-8487-4589-9630-b4bb59082621",
        "colab": {
          "base_uri": "https://localhost:8080/",
          "height": 119
        }
      },
      "source": [
        "import keras\n",
        "from keras.datasets import mnist\n",
        "from keras.models import Sequential\n",
        "from keras.layers import Dense, Dropout, Flatten\n",
        "from keras.layers import Conv2D, MaxPooling2D\n",
        "from keras import backend as K\n",
        "import numpy as np\n",
        "import pandas as pd\n",
        "import matplotlib.pyplot as plt\n",
        "%matplotlib inline\n",
        "from keras.datasets import mnist\n",
        "from keras.models import Sequential\n",
        "from keras.layers import Dense, Dropout, Activation, Flatten\n",
        "from keras.optimizers import Adam\n",
        "from keras.layers.normalization import BatchNormalization\n",
        "from keras.utils import np_utils\n",
        "from keras.layers import Conv2D, MaxPooling2D, ZeroPadding2D, GlobalAveragePooling2D\n",
        "from keras.layers.advanced_activations import LeakyReLU \n",
        "from keras.preprocessing.image import ImageDataGenerator\n",
        "\n",
        "num_classes = 10\n",
        "\n",
        "img_rows, img_cols = 28, 28\n",
        "\n",
        "# the data, split between train and test sets\n",
        "(x_train, y_train), (x_test, y_test) = mnist.load_data()\n",
        "\n",
        "if K.image_data_format() == 'channels_first':\n",
        "    x_train = x_train.reshape(x_train.shape[0], 1, img_rows, img_cols)\n",
        "    x_test = x_test.reshape(x_test.shape[0], 1, img_rows, img_cols)\n",
        "    input_shape = (1, img_rows, img_cols)\n",
        "else:\n",
        "    x_train = x_train.reshape(x_train.shape[0], img_rows, img_cols, 1)\n",
        "    x_test = x_test.reshape(x_test.shape[0], img_rows, img_cols, 1)\n",
        "    input_shape = (img_rows, img_cols, 1)\n",
        "\n",
        "x_train = x_train.astype('float32')\n",
        "x_test = x_test.astype('float32')\n",
        "x_train /= 255\n",
        "x_test /= 255\n",
        "print('x_train shape:', x_train.shape)\n",
        "print(x_train.shape[0], 'train samples')\n",
        "print(x_test.shape[0], 'test samples')"
      ],
      "execution_count": 0,
      "outputs": [
        {
          "output_type": "stream",
          "text": [
            "Using TensorFlow backend.\n"
          ],
          "name": "stderr"
        },
        {
          "output_type": "stream",
          "text": [
            "Downloading data from https://s3.amazonaws.com/img-datasets/mnist.npz\n",
            "11493376/11490434 [==============================] - 0s 0us/step\n",
            "x_train shape: (60000, 28, 28, 1)\n",
            "60000 train samples\n",
            "10000 test samples\n"
          ],
          "name": "stdout"
        }
      ]
    },
    {
      "cell_type": "code",
      "metadata": {
        "id": "nX5SzrL_s355",
        "colab_type": "code",
        "outputId": "c165afac-4892-4360-cb4f-0f59fec09e9f",
        "colab": {
          "base_uri": "https://localhost:8080/",
          "height": 34
        }
      },
      "source": [
        "# reformating MNIST train image with channel = 3 (Needed for the required shape for certain pre-trained model)\n",
        "\n",
        "import cv2\n",
        "x_train3 = np.full((60000, 28, 28, 3), 0.0)\n",
        "\n",
        "for i, s in enumerate(x_train):\n",
        "    x_train3[i] = cv2.cvtColor(s, cv2.COLOR_GRAY2RGB) \n",
        "x_train3.shape"
      ],
      "execution_count": 0,
      "outputs": [
        {
          "output_type": "execute_result",
          "data": {
            "text/plain": [
              "(60000, 28, 28, 3)"
            ]
          },
          "metadata": {
            "tags": []
          },
          "execution_count": 3
        }
      ]
    },
    {
      "cell_type": "code",
      "metadata": {
        "id": "EMkvjD9Wvoe7",
        "colab_type": "code",
        "outputId": "5a1c64a9-ddec-4498-9adf-9dad9c4c65f7",
        "colab": {
          "base_uri": "https://localhost:8080/",
          "height": 34
        }
      },
      "source": [
        "# reformating MNIST test image with channel = 3 (Needed for the required shape for certain pre-trained model)\n",
        "\n",
        "\n",
        "\n",
        "x_test3 = np.full((10000, 28, 28, 3), 0.0)\n",
        "\n",
        "for i, s in enumerate(x_test):\n",
        "    x_test3[i] = cv2.cvtColor(s, cv2.COLOR_GRAY2RGB) \n",
        "x_test3.shape"
      ],
      "execution_count": 0,
      "outputs": [
        {
          "output_type": "execute_result",
          "data": {
            "text/plain": [
              "(10000, 28, 28, 3)"
            ]
          },
          "metadata": {
            "tags": []
          },
          "execution_count": 4
        }
      ]
    },
    {
      "cell_type": "code",
      "metadata": {
        "id": "quLmAlM4qrIm",
        "colab_type": "code",
        "colab": {}
      },
      "source": [
        "# Padding Train and Test set by 2 (Needed for the required shape for certain pre-trained model) === I want a 32*32*3 tensor.\n",
        "\n",
        "X_train3 = np.pad(x_train3, ((0,0),(2,2),(2,2),(0,0)), 'constant')\n",
        "X_test3 = np.pad(x_test3, ((0,0),(2,2),(2,2),(0,0)), 'constant')"
      ],
      "execution_count": 0,
      "outputs": []
    },
    {
      "cell_type": "code",
      "metadata": {
        "id": "ultZaWF6ryXW",
        "colab_type": "code",
        "outputId": "5e7eb4f4-904e-4925-932b-4ade568b3933",
        "colab": {
          "base_uri": "https://localhost:8080/",
          "height": 194
        }
      },
      "source": [
        "# Installing Effecient Net\n",
        "\n",
        "!pip install -U efficientnet"
      ],
      "execution_count": 0,
      "outputs": [
        {
          "output_type": "stream",
          "text": [
            "Collecting efficientnet\n",
            "  Downloading https://files.pythonhosted.org/packages/66/9c/8bee2927037da1a56e899eb62140fba2862a0d4faeeacbdbe7a1f27bd528/efficientnet-0.0.3-py2.py3-none-any.whl\n",
            "Installing collected packages: efficientnet\n",
            "Successfully installed efficientnet-0.0.3\n"
          ],
          "name": "stdout"
        }
      ]
    },
    {
      "cell_type": "code",
      "metadata": {
        "id": "qZ7kN6Wsr5Xw",
        "colab_type": "code",
        "outputId": "d1cee1df-7f34-4cf5-c72f-95bc08bdcac3",
        "colab": {
          "base_uri": "https://localhost:8080/",
          "height": 509
        }
      },
      "source": [
        "# Compiling Efficient Net with a top layer adding for MNIST (Softmax with 10 labels)\n",
        "\n",
        "from keras import applications\n",
        "from efficientnet import EfficientNetB3\n",
        "from keras.models import Model\n",
        "from keras import optimizers\n",
        "model = EfficientNetB3(\n",
        "    weights='imagenet',\n",
        "    input_shape=(32,32,3),\n",
        "    include_top=False)\n",
        "    #pooling='avg')\n",
        "\n",
        "\n",
        "model.trainable = False\n",
        "\n",
        "x = model.output\n",
        "x = Flatten()(x)\n",
        "x = Dense(512, activation=\"relu\")(x)\n",
        "x = Dropout(0.2)(x)\n",
        "predictions = Dense(units = 10, activation=\"softmax\")(x)\n",
        "model_f = Model(input = model.input, output = predictions)\n",
        "\n",
        "model_f.compile(optimizer = Adam() ,loss='categorical_crossentropy',metrics=['accuracy'])"
      ],
      "execution_count": 0,
      "outputs": [
        {
          "output_type": "stream",
          "text": [
            "WARNING: Logging before flag parsing goes to stderr.\n",
            "W0624 07:45:05.272719 140007363319680 deprecation_wrapper.py:119] From /usr/local/lib/python3.6/dist-packages/keras/backend/tensorflow_backend.py:74: The name tf.get_default_graph is deprecated. Please use tf.compat.v1.get_default_graph instead.\n",
            "\n",
            "W0624 07:45:05.304040 140007363319680 deprecation_wrapper.py:119] From /usr/local/lib/python3.6/dist-packages/keras/backend/tensorflow_backend.py:517: The name tf.placeholder is deprecated. Please use tf.compat.v1.placeholder instead.\n",
            "\n",
            "W0624 07:45:05.313033 140007363319680 deprecation_wrapper.py:119] From /usr/local/lib/python3.6/dist-packages/efficientnet/initializers.py:30: The name tf.random_normal is deprecated. Please use tf.random.normal instead.\n",
            "\n",
            "W0624 07:45:05.347538 140007363319680 deprecation_wrapper.py:119] From /usr/local/lib/python3.6/dist-packages/keras/backend/tensorflow_backend.py:174: The name tf.get_default_session is deprecated. Please use tf.compat.v1.get_default_session instead.\n",
            "\n",
            "W0624 07:45:05.348353 140007363319680 deprecation_wrapper.py:119] From /usr/local/lib/python3.6/dist-packages/keras/backend/tensorflow_backend.py:181: The name tf.ConfigProto is deprecated. Please use tf.compat.v1.ConfigProto instead.\n",
            "\n",
            "W0624 07:45:08.208363 140007363319680 deprecation_wrapper.py:119] From /usr/local/lib/python3.6/dist-packages/keras/backend/tensorflow_backend.py:1834: The name tf.nn.fused_batch_norm is deprecated. Please use tf.compat.v1.nn.fused_batch_norm instead.\n",
            "\n",
            "W0624 07:45:08.652907 140007363319680 deprecation.py:323] From /usr/local/lib/python3.6/dist-packages/efficientnet/layers.py:29: div (from tensorflow.python.ops.math_ops) is deprecated and will be removed in a future version.\n",
            "Instructions for updating:\n",
            "Deprecated in favor of operator or tf.math.divide.\n"
          ],
          "name": "stderr"
        },
        {
          "output_type": "stream",
          "text": [
            "Downloading data from https://github.com/qubvel/efficientnet/releases/download/v0.0.1/efficientnet-b3_imagenet_1000_notop.h5\n",
            "43974656/43966704 [==============================] - 1s 0us/step\n"
          ],
          "name": "stdout"
        },
        {
          "output_type": "stream",
          "text": [
            "W0624 07:45:21.671029 140007363319680 deprecation.py:506] From /usr/local/lib/python3.6/dist-packages/keras/backend/tensorflow_backend.py:3445: calling dropout (from tensorflow.python.ops.nn_ops) with keep_prob is deprecated and will be removed in a future version.\n",
            "Instructions for updating:\n",
            "Please use `rate` instead of `keep_prob`. Rate should be set to `rate = 1 - keep_prob`.\n",
            "/usr/local/lib/python3.6/dist-packages/ipykernel_launcher.py:19: UserWarning: Update your `Model` call to the Keras 2 API: `Model(inputs=Tensor(\"in..., outputs=Tensor(\"de...)`\n",
            "W0624 07:45:21.741409 140007363319680 deprecation_wrapper.py:119] From /usr/local/lib/python3.6/dist-packages/keras/optimizers.py:790: The name tf.train.Optimizer is deprecated. Please use tf.compat.v1.train.Optimizer instead.\n",
            "\n"
          ],
          "name": "stderr"
        }
      ]
    },
    {
      "cell_type": "code",
      "metadata": {
        "id": "CFYOEV-8thD0",
        "colab_type": "code",
        "colab": {}
      },
      "source": [
        "# labels one hot: from a scalar to a one hot representation\n",
        "\n",
        "y_train = keras.utils.to_categorical(y_train, num_classes)\n",
        "y_test = keras.utils.to_categorical(y_test, num_classes)"
      ],
      "execution_count": 0,
      "outputs": []
    },
    {
      "cell_type": "code",
      "metadata": {
        "id": "iFlJgvI96qQ7",
        "colab_type": "code",
        "colab": {}
      },
      "source": [
        "# data augmentation with spacial modifications\n",
        "\n",
        "gen = ImageDataGenerator(rotation_range=8, width_shift_range=0.08, shear_range=0.3,\n",
        "                         height_shift_range=0.08, zoom_range=0.08)\n",
        "\n",
        "test_gen = ImageDataGenerator()"
      ],
      "execution_count": 0,
      "outputs": []
    },
    {
      "cell_type": "code",
      "metadata": {
        "id": "uRkaIMlK6t6Q",
        "colab_type": "code",
        "colab": {}
      },
      "source": [
        "train_generator = gen.flow(X_train3, y_train, batch_size=64)\n",
        "test_generator = test_gen.flow(X_test3, y_test, batch_size=64)"
      ],
      "execution_count": 0,
      "outputs": []
    },
    {
      "cell_type": "code",
      "metadata": {
        "id": "YLrJt8M_6x8S",
        "colab_type": "code",
        "outputId": "db22c9bd-e32a-4f0a-d128-0af2700bf705",
        "colab": {
          "base_uri": "https://localhost:8080/",
          "height": 1020
        }
      },
      "source": [
        "model_f.fit_generator(train_generator, steps_per_epoch=60000//64, epochs=3, \n",
        "                    validation_data=test_generator, validation_steps=10000//64)"
      ],
      "execution_count": 0,
      "outputs": [
        {
          "output_type": "stream",
          "text": [
            "W0624 07:45:49.408471 140007363319680 deprecation.py:323] From /usr/local/lib/python3.6/dist-packages/tensorflow/python/ops/math_grad.py:1250: add_dispatch_support.<locals>.wrapper (from tensorflow.python.ops.array_ops) is deprecated and will be removed in a future version.\n",
            "Instructions for updating:\n",
            "Use tf.where in 2.0, which has the same broadcast rule as np.where\n"
          ],
          "name": "stderr"
        },
        {
          "output_type": "stream",
          "text": [
            "Epoch 1/3\n",
            "937/937 [==============================] - 175s 187ms/step - loss: 0.2152 - acc: 0.9366 - val_loss: 0.0538 - val_acc: 0.9841\n",
            "Epoch 2/3\n",
            "937/937 [==============================] - 151s 161ms/step - loss: 0.0873 - acc: 0.9766 - val_loss: 0.0369 - val_acc: 0.9893\n",
            "Epoch 3/3\n",
            "937/937 [==============================] - 146s 155ms/step - loss: 0.0664 - acc: 0.9826 - val_loss: 0.0664 - val_acc: 0.9819\n"
          ],
          "name": "stdout"
        },
        {
          "output_type": "execute_result",
          "data": {
            "text/plain": [
              "<keras.callbacks.History at 0x7f55af6714a8>"
            ]
          },
          "metadata": {
            "tags": []
          },
          "execution_count": 11
        }
      ]
    },
    {
      "cell_type": "code",
      "metadata": {
        "id": "1kXE46WM6Hgp",
        "colab_type": "code",
        "outputId": "d67ff2a3-7b97-4703-b349-087de1091aea",
        "colab": {
          "base_uri": "https://localhost:8080/",
          "height": 557
        }
      },
      "source": [
        "# Installing foolbox package\n",
        "\n",
        "!pip install foolbox"
      ],
      "execution_count": 0,
      "outputs": [
        {
          "output_type": "stream",
          "text": [
            "Collecting foolbox\n",
            "\u001b[?25l  Downloading https://files.pythonhosted.org/packages/d5/6d/31f6bbd461f3276288b9bd9c0cf6d93e01231e5da2133b250e23f7df6566/foolbox-1.8.0.tar.gz (239kB)\n",
            "\u001b[K     |████████████████████████████████| 245kB 3.4MB/s \n",
            "\u001b[?25hRequirement already satisfied: numpy in /usr/local/lib/python3.6/dist-packages (from foolbox) (1.16.4)\n",
            "Requirement already satisfied: scipy in /usr/local/lib/python3.6/dist-packages (from foolbox) (1.3.0)\n",
            "Requirement already satisfied: setuptools in /usr/local/lib/python3.6/dist-packages (from foolbox) (41.0.1)\n",
            "Requirement already satisfied: requests in /usr/local/lib/python3.6/dist-packages (from foolbox) (2.21.0)\n",
            "Collecting GitPython (from foolbox)\n",
            "\u001b[?25l  Downloading https://files.pythonhosted.org/packages/fe/e5/fafe827507644c32d6dc553a1c435cdf882e0c28918a5bab29f7fbebfb70/GitPython-2.1.11-py2.py3-none-any.whl (448kB)\n",
            "\u001b[K     |████████████████████████████████| 450kB 51.0MB/s \n",
            "\u001b[?25hRequirement already satisfied: chardet<3.1.0,>=3.0.2 in /usr/local/lib/python3.6/dist-packages (from requests->foolbox) (3.0.4)\n",
            "Requirement already satisfied: certifi>=2017.4.17 in /usr/local/lib/python3.6/dist-packages (from requests->foolbox) (2019.3.9)\n",
            "Requirement already satisfied: idna<2.9,>=2.5 in /usr/local/lib/python3.6/dist-packages (from requests->foolbox) (2.8)\n",
            "Requirement already satisfied: urllib3<1.25,>=1.21.1 in /usr/local/lib/python3.6/dist-packages (from requests->foolbox) (1.24.3)\n",
            "Collecting gitdb2>=2.0.0 (from GitPython->foolbox)\n",
            "\u001b[?25l  Downloading https://files.pythonhosted.org/packages/da/30/a407568aa8d8f25db817cf50121a958722f3fc5f87e3a6fba1f40c0633e3/gitdb2-2.0.5-py2.py3-none-any.whl (62kB)\n",
            "\u001b[K     |████████████████████████████████| 71kB 30.6MB/s \n",
            "\u001b[?25hCollecting smmap2>=2.0.0 (from gitdb2>=2.0.0->GitPython->foolbox)\n",
            "  Downloading https://files.pythonhosted.org/packages/55/d2/866d45e3a121ee15a1dc013824d58072fd5c7799c9c34d01378eb262ca8f/smmap2-2.0.5-py2.py3-none-any.whl\n",
            "Building wheels for collected packages: foolbox\n",
            "  Building wheel for foolbox (setup.py) ... \u001b[?25l\u001b[?25hdone\n",
            "  Stored in directory: /root/.cache/pip/wheels/d7/e7/c8/153284a6e5e5c3fd4da42a8453175b45e2e185e8b5a09ced06\n",
            "Successfully built foolbox\n",
            "Installing collected packages: smmap2, gitdb2, GitPython, foolbox\n",
            "Successfully installed GitPython-2.1.11 foolbox-1.8.0 gitdb2-2.0.5 smmap2-2.0.5\n"
          ],
          "name": "stdout"
        }
      ]
    },
    {
      "cell_type": "code",
      "metadata": {
        "id": "Xol6XB4W6KRt",
        "colab_type": "code",
        "outputId": "1b9ca970-3ce6-4d6c-bfb0-37aedb1faaa1",
        "colab": {
          "base_uri": "https://localhost:8080/",
          "height": 34
        }
      },
      "source": [
        "import foolbox\n",
        "import keras\n",
        "import numpy as np\n",
        "from keras import backend\n",
        "from keras.models import load_model\n",
        "from keras.datasets import mnist\n",
        "from keras.utils import np_utils\n",
        "from foolbox.attacks import SaliencyMapAttack\n",
        "from foolbox.criteria import Misclassification\n",
        "from keras.models import Model\n",
        "import matplotlib.pyplot as plt\n",
        "\n",
        "_,(images, labels) = mnist.load_data()\n",
        "images = images.reshape(10000,28,28,1)\n",
        "images= images.astype('float32')\n",
        "images /= 255\n",
        "images[1].shape\n",
        "labels.shape"
      ],
      "execution_count": 0,
      "outputs": [
        {
          "output_type": "execute_result",
          "data": {
            "text/plain": [
              "(10000,)"
            ]
          },
          "metadata": {
            "tags": []
          },
          "execution_count": 13
        }
      ]
    },
    {
      "cell_type": "code",
      "metadata": {
        "id": "NjQYjI96DuKf",
        "colab_type": "code",
        "outputId": "1bd39975-2a94-45b0-9367-a2bc6730bf6e",
        "colab": {
          "base_uri": "https://localhost:8080/",
          "height": 151
        }
      },
      "source": [
        "\n",
        "from foolbox.criteria import TopKMisclassification\n",
        "from foolbox.criteria import TargetClass\n",
        "\n",
        "fmodel = foolbox.models.KerasModel(model_f, bounds=(0,1)) # creating a foolbox model for an attack via KerasModel\n",
        "\n",
        "# Setting up an FGSM attack with Misclassification criteria (vs targeted attack)\n",
        "attack=foolbox.attacks.gradient.GradientSignAttack(fmodel,criterion=Misclassification()) \n",
        "\n",
        "# number of images to attacks\n",
        "num_sample = 100 \n",
        "\n",
        "\n",
        "# setting an empty list to retrieve adversarial images.\n",
        "adv_input = [] \n",
        "\n",
        "# eps_max correspond to the number of different espilons (magnitude of the pertubation) we want to run the attack with.\n",
        "# Below, we want 10 different epsilons from 0 (no pertubation) to 0.25.\n",
        "eps_max = np.linspace(0,0.25,10)\n",
        "\n",
        "# looping across the 10 espilons values:\n",
        "for i in range (len(eps_max)):\n",
        "    # looing across the number of images to attack\n",
        "    for j in range(num_sample):\n",
        "        # running the attacks\n",
        "        adversarial_all = attack(X_test3[j],labels[j],max_epsilon=eps_max[i],epsilons=1)\n",
        "        # if the attack is not effective => return the intial clean image instead\n",
        "        if np.size(adversarial_all) == 1:\n",
        "            adversarial_all = X_test3[j].reshape(1,32,32,3) # reshaping it for model prediction\n",
        "            adv_input.append(adversarial_all)\n",
        "        # if the attack is successful return the adversarial images\n",
        "        else:\n",
        "            adversarial_all = np.array(adversarial_all).reshape(1,32,32,3) # reshaping it for model prediction\n",
        " \n",
        "            adv_input.append(adversarial_all)\n",
        "    \n",
        "# Note that here we run 10 FGSM attacks (one for each epsilons) on 100 images.\n",
        "# We want a vector of shape (10*100,32,32,3)"
      ],
      "execution_count": 0,
      "outputs": [
        {
          "output_type": "stream",
          "text": [
            "/usr/local/lib/python3.6/dist-packages/foolbox/attacks/base.py:148: UserWarning: GradientSignAttack did not find an adversarial, maybe the model or the criterion is not supported by this attack.\n",
            "  ' attack.'.format(self.name()))\n",
            "/usr/local/lib/python3.6/dist-packages/foolbox/attacks/base.py:129: UserWarning: Not running the attack because the original input is already misclassified and the adversarial thus has a distance of 0.\n",
            "  warnings.warn('Not running the attack because the original input'\n"
          ],
          "name": "stderr"
        }
      ]
    },
    {
      "cell_type": "code",
      "metadata": {
        "id": "tI-IBRyWBn84",
        "colab_type": "code",
        "outputId": "0b8b4c8a-aed1-41c2-c014-ea508f27fcfb",
        "colab": {
          "base_uri": "https://localhost:8080/",
          "height": 204
        }
      },
      "source": [
        "# Function to calculate accuracy and L2 distance for each attack:\n",
        "\n",
        "\n",
        "def accuacy_vs_L2(adv_input,num_sample,eps_max,y_test,x_test,model_f):\n",
        "\n",
        "    score_adv =[] # accuracy score \n",
        "    L2_dist = [] # L2 distance \n",
        "\n",
        "    reshaped_adv = np.array(adv_input).reshape(len(eps_max)*num_sample,32,32,3)\n",
        "    \n",
        "    print(reshaped_adv.shape)\n",
        "    adv_test = np.zeros((len(eps_max),num_sample,32,32,3))\n",
        "    for i in range(len(eps_max)):\n",
        "        adv_test[i] = reshaped_adv[i*num_sample:(i+1)*num_sample]\n",
        "        score_adv.append(model_f.evaluate(adv_test[i], y_test[:num_sample])[1])\n",
        "        L2_dist.append((1/num_sample)*np.sum((adv_test[i] - X_test3[:num_sample])**2))\n",
        "    return score_adv, L2_dist\n",
        "    \n",
        "score_adv, L2_dist = accuacy_vs_L2(adv_input,num_sample,eps_max,y_test,X_test3,model_f)\n",
        "\n",
        "\n",
        "\n",
        "# saving L2 distance and accuracy score:\n",
        "import pickle\n",
        "with open(\"gdrive/My Drive/EfficientNet_accuracy.txt\", \"wb\") as fp:   #Pickling\n",
        "    pickle.dump(score_adv, fp)\n",
        "\n",
        "with open(\"gdrive/My Drive/EfficientNet_L2_distance.txt\", \"wb\") as fp:   #Pickling\n",
        "    pickle.dump(L2_dist, fp)"
      ],
      "execution_count": 0,
      "outputs": [
        {
          "output_type": "stream",
          "text": [
            "(1000, 32, 32, 3)\n",
            "100/100 [==============================] - 0s 4ms/step\n",
            "100/100 [==============================] - 0s 785us/step\n",
            "100/100 [==============================] - 0s 749us/step\n",
            "100/100 [==============================] - 0s 778us/step\n",
            "100/100 [==============================] - 0s 743us/step\n",
            "100/100 [==============================] - 0s 752us/step\n",
            "100/100 [==============================] - 0s 749us/step\n",
            "100/100 [==============================] - 0s 730us/step\n",
            "100/100 [==============================] - 0s 806us/step\n",
            "100/100 [==============================] - 0s 738us/step\n"
          ],
          "name": "stdout"
        }
      ]
    },
    {
      "cell_type": "code",
      "metadata": {
        "id": "-Lq5mP4ECp8N",
        "colab_type": "code",
        "outputId": "0082ad74-f95e-472f-9b9b-345e1f6e78e7",
        "colab": {
          "base_uri": "https://localhost:8080/",
          "height": 514
        }
      },
      "source": [
        "# Plotting accuracy versus L2 \n",
        "\n",
        "fig = plt.figure(figsize=(10,8))\n",
        "ax = plt.subplot(111)\n",
        "#plt.plot(L2_dist,score_adv,'--')\n",
        "#ax.plot(L2_dist_jump,score_adv_jump, \"b--\", label=\"FGSM Jump RELU\")\n",
        "ax.plot(L2_dist, score_adv, \"b--\", label=\"EfficientNet-B3\")\n",
        "ax.legend(loc='upper right',prop={'size': 12})\n",
        "plt.xlabel('L2_distance')\n",
        "plt.ylabel('accuracy')\n",
        "plt.title('accuracy vs L2 distance')\n",
        "\n",
        "plt.show()"
      ],
      "execution_count": 0,
      "outputs": [
        {
          "output_type": "display_data",
          "data": {
            "image/png": "[encoded data removed]",
            "text/plain": [
              "<Figure size 720x576 with 1 Axes>"
            ]
          },
          "metadata": {
            "tags": []
          }
        }
      ]
    },
    {
      "cell_type": "markdown",
      "metadata": {
        "id": "-59HXv37M1eA",
        "colab_type": "text"
      },
      "source": [
        "## From now on, we will repeat exactly the same process as above but for different models. Therefore there is no need to comment any further.\n",
        "\n",
        "\n"
      ]
    },
    {
      "cell_type": "code",
      "metadata": {
        "id": "wZDCLEhnH-Fn",
        "colab_type": "code",
        "outputId": "20a70114-c8d9-4c28-e2ca-d01b6b5860a0",
        "colab": {
          "base_uri": "https://localhost:8080/",
          "height": 111
        }
      },
      "source": [
        "# Importing pre-trained model VGG19 and we doing exaclty the same as above for Efficient Net\n",
        "\n",
        "VGG19 = keras.applications.vgg19.VGG19(include_top=False, weights='imagenet', input_shape=(32,32,3), pooling='avg')\n",
        "\n",
        "\n",
        "VGG19.trainable = False\n",
        "\n",
        "x = VGG19.output\n",
        "#x = Flatten()(x)\n",
        "x = Dense(512, activation=\"relu\")(x)\n",
        "x = Dropout(0.2)(x)\n",
        "predictions = Dense(units = 10, activation=\"softmax\")(x)\n",
        "model_VVG19 = Model(input = VGG19.input, output = predictions)\n",
        "\n",
        "model_VVG19.compile(optimizer = Adam() ,loss='categorical_crossentropy',metrics=['accuracy'])"
      ],
      "execution_count": 0,
      "outputs": [
        {
          "output_type": "stream",
          "text": [
            "/usr/local/lib/python3.6/dist-packages/ipykernel_launcher.py:12: UserWarning: Update your `Model` call to the Keras 2 API: `Model(inputs=Tensor(\"in..., outputs=Tensor(\"de...)`\n",
            "  if sys.path[0] == '':\n"
          ],
          "name": "stderr"
        }
      ]
    },
    {
      "cell_type": "code",
      "metadata": {
        "id": "YZnQjojM3VL9",
        "colab_type": "code",
        "outputId": "e7379676-4335-4a55-e1aa-9904de539eb1",
        "colab": {
          "base_uri": "https://localhost:8080/",
          "height": 136
        }
      },
      "source": [
        "model_VVG19.fit_generator(train_generator, steps_per_epoch=60000//64, epochs=3, \n",
        "                    validation_data=test_generator, validation_steps=10000//64)"
      ],
      "execution_count": 0,
      "outputs": [
        {
          "output_type": "stream",
          "text": [
            "Epoch 1/3\n",
            "937/937 [==============================] - 63s 67ms/step - loss: 0.9628 - acc: 0.6429 - val_loss: 2.5984 - val_acc: 0.1673\n",
            "Epoch 2/3\n",
            "937/937 [==============================] - 57s 60ms/step - loss: 0.3774 - acc: 0.8874 - val_loss: 0.1636 - val_acc: 0.9645\n",
            "Epoch 3/3\n",
            "937/937 [==============================] - 57s 60ms/step - loss: 0.1480 - acc: 0.9649 - val_loss: 0.1063 - val_acc: 0.9819\n"
          ],
          "name": "stdout"
        },
        {
          "output_type": "execute_result",
          "data": {
            "text/plain": [
              "<keras.callbacks.History at 0x7f53106f9be0>"
            ]
          },
          "metadata": {
            "tags": []
          },
          "execution_count": 23
        }
      ]
    },
    {
      "cell_type": "code",
      "metadata": {
        "id": "6Afa6O9s3MIa",
        "colab_type": "code",
        "outputId": "3bbda1b1-3749-4aa1-dc53-a579d33d56f4",
        "colab": {
          "base_uri": "https://localhost:8080/",
          "height": 131
        }
      },
      "source": [
        "from foolbox.criteria import TopKMisclassification\n",
        "from foolbox.criteria import TargetClass\n",
        "\n",
        "fmodel = foolbox.models.KerasModel(model_VVG19, bounds=(0,1))\n",
        "attack=foolbox.attacks.gradient.GradientSignAttack(fmodel,criterion=Misclassification())\n",
        "\n",
        "num_sample = 100\n",
        "\n",
        "#adversarial_all = np.zeros(images.shape)\n",
        "adv_input = []\n",
        "#score_fgsm = []\n",
        "#L2_fgsm = []\n",
        "\n",
        "eps_max = np.linspace(0,0.3,10)\n",
        "#adv_input = np.zeros((len(eps_max),10000,28,28,1))\n",
        "for i in range (len(eps_max)):\n",
        "    for j in range(num_sample):\n",
        "        adversarial_all = attack(X_test3[j],labels[j],max_epsilon=eps_max[i],epsilons=1)\n",
        "        if np.size(adversarial_all) == 1:\n",
        "            adversarial_all = X_test3[j].reshape(1,32,32,3)\n",
        "            adv_input.append(adversarial_all)\n",
        "        else:\n",
        "            adversarial_all = np.array(adversarial_all).reshape(1,32,32,3) # reshaping it for model prediction\n",
        " \n",
        "            adv_input.append(adversarial_all)"
      ],
      "execution_count": 0,
      "outputs": [
        {
          "output_type": "stream",
          "text": [
            "/usr/local/lib/python3.6/dist-packages/foolbox/attacks/base.py:148: UserWarning: GradientSignAttack did not find an adversarial, maybe the model or the criterion is not supported by this attack.\n",
            "  ' attack.'.format(self.name()))\n"
          ],
          "name": "stderr"
        }
      ]
    },
    {
      "cell_type": "code",
      "metadata": {
        "id": "pHyKq69544oU",
        "colab_type": "code",
        "outputId": "6a7f4a93-a8fb-45f5-86a4-9448a06ecc5e",
        "colab": {
          "base_uri": "https://localhost:8080/",
          "height": 204
        }
      },
      "source": [
        "vgg19_score_adv, vgg19_L2_dist = accuacy_vs_L2(adv_input,num_sample,eps_max,y_test,X_test3,model_VVG19)\n",
        "\n",
        "with open(\"gdrive/My Drive/vgg19_accuracy.txt\", \"wb\") as fp:   #Pickling\n",
        "    pickle.dump(vgg19_score_adv , fp)\n",
        "\n",
        "with open(\"gdrive/My Drive/vgg19_L2_distance.txt\", \"wb\") as fp:   #Pickling\n",
        "    pickle.dump(vgg19_L2_dist , fp)"
      ],
      "execution_count": 0,
      "outputs": [
        {
          "output_type": "stream",
          "text": [
            "(1000, 32, 32, 3)\n",
            "100/100 [==============================] - 0s 614us/step\n",
            "100/100 [==============================] - 0s 626us/step\n",
            "100/100 [==============================] - 0s 635us/step\n",
            "100/100 [==============================] - 0s 504us/step\n",
            "100/100 [==============================] - 0s 421us/step\n",
            "100/100 [==============================] - 0s 436us/step\n",
            "100/100 [==============================] - 0s 422us/step\n",
            "100/100 [==============================] - 0s 402us/step\n",
            "100/100 [==============================] - 0s 376us/step\n",
            "100/100 [==============================] - 0s 395us/step\n"
          ],
          "name": "stdout"
        }
      ]
    },
    {
      "cell_type": "code",
      "metadata": {
        "id": "sWQT5rEo5QLJ",
        "colab_type": "code",
        "outputId": "98ae1567-228e-4514-cdb1-f614a69a2e79",
        "colab": {
          "base_uri": "https://localhost:8080/",
          "height": 514
        }
      },
      "source": [
        "fig = plt.figure(figsize=(10,8))\n",
        "ax = plt.subplot(111)\n",
        "#plt.plot(L2_dist,score_adv,'--')\n",
        "#ax.plot(L2_dist_jump,score_adv_jump, \"b--\", label=\"FGSM Jump RELU\")\n",
        "ax.plot(L2_dist, score_adv, \"b--\", label=\"EfficientNet-B3\")\n",
        "ax.plot(vgg19_L2_dist,vgg19_score_adv, \"g--\", label=\"VGG19\")\n",
        "ax.legend(loc='upper right',prop={'size': 12})\n",
        "plt.xlabel('L2_distance')\n",
        "plt.ylabel('accuracy')\n",
        "plt.title('accuracy vs L2 distance')\n",
        "\n",
        "plt.show()"
      ],
      "execution_count": 0,
      "outputs": [
        {
          "output_type": "display_data",
          "data": {
            "image/png": "[encoded data removed]",
            "text/plain": [
              "<Figure size 720x576 with 1 Axes>"
            ]
          },
          "metadata": {
            "tags": []
          }
        }
      ]
    },
    {
      "cell_type": "code",
      "metadata": {
        "id": "rfHmFWtv1Nlw",
        "colab_type": "code",
        "outputId": "2045a070-f479-41f0-d888-9d6283b5f2c0",
        "colab": {
          "base_uri": "https://localhost:8080/",
          "height": 291
        }
      },
      "source": [
        "\n",
        "dense =keras.applications.densenet.DenseNet121(include_top=False, weights='imagenet', input_shape=(32,32,3), pooling=None)\n",
        "\n",
        "\n",
        "dense.trainable = False\n",
        "\n",
        "x = dense.output\n",
        "x = Flatten()(x)\n",
        "x = Dense(512, activation=\"relu\")(x)\n",
        "x = Dropout(0.2)(x)\n",
        "predictions = Dense(units = 10, activation=\"softmax\")(x)\n",
        "model_densenet = Model(input = dense.input, output = predictions)\n",
        "\n",
        "model_densenet.compile(optimizer = Adam() ,loss='categorical_crossentropy',metrics=['accuracy'])"
      ],
      "execution_count": 0,
      "outputs": [
        {
          "output_type": "stream",
          "text": [
            "W0624 08:13:44.563496 140007363319680 deprecation_wrapper.py:119] From /usr/local/lib/python3.6/dist-packages/keras/backend/tensorflow_backend.py:3980: The name tf.nn.avg_pool is deprecated. Please use tf.nn.avg_pool2d instead.\n",
            "\n"
          ],
          "name": "stderr"
        },
        {
          "output_type": "stream",
          "text": [
            "Downloading data from https://github.com/keras-team/keras-applications/releases/download/densenet/densenet121_weights_tf_dim_ordering_tf_kernels_notop.h5\n",
            "29089792/29084464 [==============================] - 1s 0us/step\n"
          ],
          "name": "stdout"
        },
        {
          "output_type": "stream",
          "text": [
            "/usr/local/lib/python3.6/dist-packages/ipykernel_launcher.py:12: UserWarning: Update your `Model` call to the Keras 2 API: `Model(inputs=Tensor(\"in..., outputs=Tensor(\"de...)`\n",
            "  if sys.path[0] == '':\n"
          ],
          "name": "stderr"
        }
      ]
    },
    {
      "cell_type": "code",
      "metadata": {
        "id": "S9QXiaRP6Awl",
        "colab_type": "code",
        "outputId": "9dc42656-8b7f-434b-dab5-f518639bcc93",
        "colab": {
          "base_uri": "https://localhost:8080/",
          "height": 136
        }
      },
      "source": [
        "model_densenet.fit_generator(train_generator, steps_per_epoch=60000//64, epochs=3, \n",
        "                    validation_data=test_generator, validation_steps=10000//64)"
      ],
      "execution_count": 0,
      "outputs": [
        {
          "output_type": "stream",
          "text": [
            "Epoch 1/3\n",
            "937/937 [==============================] - 163s 174ms/step - loss: 0.1476 - acc: 0.9592 - val_loss: 0.0517 - val_acc: 0.9851\n",
            "Epoch 2/3\n",
            "937/937 [==============================] - 134s 143ms/step - loss: 0.0717 - acc: 0.9805 - val_loss: 0.0842 - val_acc: 0.9751\n",
            "Epoch 3/3\n",
            "937/937 [==============================] - 133s 142ms/step - loss: 0.1084 - acc: 0.9712 - val_loss: 0.0392 - val_acc: 0.9884\n"
          ],
          "name": "stdout"
        },
        {
          "output_type": "execute_result",
          "data": {
            "text/plain": [
              "<keras.callbacks.History at 0x7f53102454e0>"
            ]
          },
          "metadata": {
            "tags": []
          },
          "execution_count": 28
        }
      ]
    },
    {
      "cell_type": "code",
      "metadata": {
        "id": "8PVTkI0o-JkK",
        "colab_type": "code",
        "outputId": "939f3e94-198d-48da-a83f-62545ce34c6f",
        "colab": {
          "base_uri": "https://localhost:8080/",
          "height": 204
        }
      },
      "source": [
        "dense_score_adv, dense_L2_dist = accuacy_vs_L2(adv_input,num_sample,eps_max,y_test,X_test3,model_densenet)\n",
        "\n",
        "with open(\"gdrive/My Drive/dense_accuracy.txt\", \"wb\") as fp:   #Pickling\n",
        "    pickle.dump(dense_score_adv , fp)\n",
        "\n",
        "with open(\"gdrive/My Drive/dense_L2_distance.txt\", \"wb\") as fp:   #Pickling\n",
        "    pickle.dump(dense_L2_dist , fp)"
      ],
      "execution_count": 0,
      "outputs": [
        {
          "output_type": "stream",
          "text": [
            "(1000, 32, 32, 3)\n",
            "100/100 [==============================] - 0s 5ms/step\n",
            "100/100 [==============================] - 0s 729us/step\n",
            "100/100 [==============================] - 0s 631us/step\n",
            "100/100 [==============================] - 0s 654us/step\n",
            "100/100 [==============================] - 0s 628us/step\n",
            "100/100 [==============================] - 0s 624us/step\n",
            "100/100 [==============================] - 0s 653us/step\n",
            "100/100 [==============================] - 0s 635us/step\n",
            "100/100 [==============================] - 0s 708us/step\n",
            "100/100 [==============================] - 0s 684us/step\n"
          ],
          "name": "stdout"
        }
      ]
    },
    {
      "cell_type": "code",
      "metadata": {
        "id": "gkLtoaKR-RFS",
        "colab_type": "code",
        "outputId": "d2cb7cec-9fc0-4163-96af-a4c6c112545c",
        "colab": {
          "base_uri": "https://localhost:8080/",
          "height": 514
        }
      },
      "source": [
        "fig = plt.figure(figsize=(10,8))\n",
        "ax = plt.subplot(111)\n",
        "#plt.plot(L2_dist,score_adv,'--')\n",
        "#ax.plot(L2_dist_jump,score_adv_jump, \"b--\", label=\"FGSM Jump RELU\")\n",
        "ax.plot(L2_dist, score_adv, \"b--\", label=\"EfficientNet-B3\")\n",
        "ax.plot(vgg19_L2_dist,vgg19_score_adv, \"g--\", label=\"VGG19\")\n",
        "ax.plot(dense_L2_dist,dense_score_adv, \"r--\", label=\"DenseNet121\")\n",
        "ax.legend(loc='upper right',prop={'size': 12})\n",
        "plt.xlabel('L2_distance')\n",
        "plt.ylabel('accuracy')\n",
        "plt.title('accuracy vs L2 distance')\n",
        "\n",
        "plt.show()"
      ],
      "execution_count": 0,
      "outputs": [
        {
          "output_type": "display_data",
          "data": {
            "image/png": "[encoded data removed]",
            "text/plain": [
              "<Figure size 720x576 with 1 Axes>"
            ]
          },
          "metadata": {
            "tags": []
          }
        }
      ]
    },
    {
      "cell_type": "code",
      "metadata": {
        "id": "9A9LNbTm8Ako",
        "colab_type": "code",
        "outputId": "7f6ff6de-4ab7-4da8-9b8a-39eb02e289f8",
        "colab": {
          "base_uri": "https://localhost:8080/",
          "height": 165
        }
      },
      "source": [
        "from foolbox.criteria import TopKMisclassification\n",
        "from foolbox.criteria import TargetClass\n",
        "\n",
        "fmodel = foolbox.models.KerasModel(model_densenet, bounds=(0,1))\n",
        "attack=foolbox.attacks.gradient.GradientSignAttack(fmodel,criterion=Misclassification())\n",
        "\n",
        "num_sample = 100\n",
        "\n",
        "\n",
        "adv_input = []\n",
        "\n",
        "\n",
        "eps_max = np.linspace(0,4,10)\n",
        "\n",
        "for i in range (len(eps_max)):\n",
        "    for j in range(num_sample):\n",
        "        adversarial_all = attack(X_test3[j],labels[j],max_epsilon=eps_max[i],epsilons=1)\n",
        "        if np.size(adversarial_all) == 1:\n",
        "            adversarial_all = X_test3[j].reshape(1,32,32,3)\n",
        "            adv_input.append(adversarial_all)\n",
        "        else:\n",
        "            adversarial_all = np.array(adversarial_all).reshape(1,32,32,3) # reshaping it for model prediction\n",
        " \n",
        "            adv_input.append(adversarial_all)"
      ],
      "execution_count": 0,
      "outputs": [
        {
          "output_type": "stream",
          "text": [
            "/usr/local/lib/python3.6/dist-packages/foolbox/attacks/base.py:148: UserWarning: GradientSignAttack did not find an adversarial, maybe the model or the criterion is not supported by this attack.\n",
            "  ' attack.'.format(self.name()))\n",
            "/usr/local/lib/python3.6/dist-packages/foolbox/attacks/base.py:129: UserWarning: Not running the attack because the original input is already misclassified and the adversarial thus has a distance of 0.\n",
            "  warnings.warn('Not running the attack because the original input'\n"
          ],
          "name": "stderr"
        }
      ]
    },
    {
      "cell_type": "code",
      "metadata": {
        "id": "1-Fm5mz71jBb",
        "colab_type": "code",
        "outputId": "292c4225-2bce-4056-90ec-82656240e507",
        "colab": {
          "base_uri": "https://localhost:8080/",
          "height": 251
        }
      },
      "source": [
        "keras.applications.mobilenet.MobileNet\n",
        "\n",
        "mobile =keras.applications.mobilenet.MobileNet(include_top=False, weights='imagenet', input_shape=(32,32,3), pooling=None)\n",
        "\n",
        "\n",
        "mobile.trainable = False\n",
        "\n",
        "x = mobile.output\n",
        "x = Flatten()(x)\n",
        "x = Dense(512, activation=\"relu\")(x)\n",
        "x = Dropout(0.2)(x)\n",
        "predictions = Dense(units = 10, activation=\"softmax\")(x)\n",
        "model_mobilenet = Model(input = mobile.input, output = predictions)\n",
        "\n",
        "model_mobilenet.compile(optimizer = Adam() ,loss='categorical_crossentropy',metrics=['accuracy'])"
      ],
      "execution_count": 0,
      "outputs": [
        {
          "output_type": "stream",
          "text": [
            "/usr/local/lib/python3.6/dist-packages/keras_applications/mobilenet.py:207: UserWarning: `input_shape` is undefined or non-square, or `rows` is not in [128, 160, 192, 224]. Weights for input shape (224, 224) will be loaded as the default.\n",
            "  warnings.warn('`input_shape` is undefined or non-square, '\n"
          ],
          "name": "stderr"
        },
        {
          "output_type": "stream",
          "text": [
            "Downloading data from https://github.com/fchollet/deep-learning-models/releases/download/v0.6/mobilenet_1_0_224_tf_no_top.h5\n",
            "17227776/17225924 [==============================] - 0s 0us/step\n"
          ],
          "name": "stdout"
        },
        {
          "output_type": "stream",
          "text": [
            "/usr/local/lib/python3.6/dist-packages/ipykernel_launcher.py:13: UserWarning: Update your `Model` call to the Keras 2 API: `Model(inputs=Tensor(\"in..., outputs=Tensor(\"de...)`\n",
            "  del sys.path[0]\n"
          ],
          "name": "stderr"
        }
      ]
    },
    {
      "cell_type": "code",
      "metadata": {
        "id": "kuGlghqRM68N",
        "colab_type": "code",
        "outputId": "d1c30f76-f1d3-428e-8af7-eee37250a7df",
        "colab": {
          "base_uri": "https://localhost:8080/",
          "height": 136
        }
      },
      "source": [
        "model_mobilenet.fit_generator(train_generator, steps_per_epoch=60000//64, epochs=3, \n",
        "                    validation_data=test_generator, validation_steps=10000//64)"
      ],
      "execution_count": 0,
      "outputs": [
        {
          "output_type": "stream",
          "text": [
            "Epoch 1/3\n",
            "937/937 [==============================] - 60s 64ms/step - loss: 0.2432 - acc: 0.9330 - val_loss: 0.1220 - val_acc: 0.9647\n",
            "Epoch 2/3\n",
            "937/937 [==============================] - 46s 49ms/step - loss: 0.1155 - acc: 0.9703 - val_loss: 0.2841 - val_acc: 0.9145\n",
            "Epoch 3/3\n",
            "937/937 [==============================] - 46s 49ms/step - loss: 0.0934 - acc: 0.9751 - val_loss: 0.0770 - val_acc: 0.9817\n"
          ],
          "name": "stdout"
        },
        {
          "output_type": "execute_result",
          "data": {
            "text/plain": [
              "<keras.callbacks.History at 0x7f52f81accc0>"
            ]
          },
          "metadata": {
            "tags": []
          },
          "execution_count": 32
        }
      ]
    },
    {
      "cell_type": "code",
      "metadata": {
        "id": "4XvPe4aMPD6-",
        "colab_type": "code",
        "outputId": "c6db1eb9-4075-402c-c56a-30a160557644",
        "colab": {
          "base_uri": "https://localhost:8080/",
          "height": 131
        }
      },
      "source": [
        "from foolbox.criteria import TopKMisclassification\n",
        "from foolbox.criteria import TargetClass\n",
        "\n",
        "fmodel = foolbox.models.KerasModel(model_mobilenet, bounds=(0,1))\n",
        "attack=foolbox.attacks.gradient.GradientSignAttack(fmodel,criterion=Misclassification())\n",
        "\n",
        "num_sample = 100\n",
        "\n",
        "#adversarial_all = np.zeros(images.shape)\n",
        "adv_input = []\n",
        "#score_fgsm = []\n",
        "#L2_fgsm = []\n",
        "\n",
        "eps_max = np.linspace(0,0.8,10)\n",
        "#adv_input = np.zeros((len(eps_max),10000,28,28,1))\n",
        "for i in range (len(eps_max)):\n",
        "    for j in range(num_sample):\n",
        "        adversarial_all = attack(X_test3[j],labels[j],max_epsilon=eps_max[i],epsilons=1)\n",
        "        if np.size(adversarial_all) == 1:\n",
        "            adversarial_all = X_test3[j].reshape(1,32,32,3)\n",
        "            adv_input.append(adversarial_all)\n",
        "        else:\n",
        "            adversarial_all = np.array(adversarial_all).reshape(1,32,32,3) # reshaping it for model prediction\n",
        " \n",
        "            adv_input.append(adversarial_all)"
      ],
      "execution_count": 0,
      "outputs": [
        {
          "output_type": "stream",
          "text": [
            "/usr/local/lib/python3.6/dist-packages/foolbox/attacks/base.py:148: UserWarning: GradientSignAttack did not find an adversarial, maybe the model or the criterion is not supported by this attack.\n",
            "  ' attack.'.format(self.name()))\n"
          ],
          "name": "stderr"
        }
      ]
    },
    {
      "cell_type": "code",
      "metadata": {
        "id": "1No0bLksP0Ga",
        "colab_type": "code",
        "outputId": "21a27408-d261-4db9-eb72-f2b45a9d171b",
        "colab": {
          "base_uri": "https://localhost:8080/",
          "height": 204
        }
      },
      "source": [
        "mobile_score_adv, mobile_L2_dist = accuacy_vs_L2(adv_input,num_sample,eps_max,y_test,X_test3,model_mobilenet)\n",
        "\n",
        "with open(\"gdrive/My Drive/mobile_accuracy.txt\", \"wb\") as fp:   #Pickling\n",
        "    pickle.dump(mobile_score_adv, fp)\n",
        "with open(\"gdrive/My Drive/mobile_L2_distance.txt\", \"wb\") as fp:   #Pickling\n",
        "    pickle.dump(mobile_L2_dist, fp)"
      ],
      "execution_count": 0,
      "outputs": [
        {
          "output_type": "stream",
          "text": [
            "(1000, 32, 32, 3)\n",
            "100/100 [==============================] - 0s 2ms/step\n",
            "100/100 [==============================] - 0s 381us/step\n",
            "100/100 [==============================] - 0s 296us/step\n",
            "100/100 [==============================] - 0s 364us/step\n",
            "100/100 [==============================] - 0s 307us/step\n",
            "100/100 [==============================] - 0s 317us/step\n",
            "100/100 [==============================] - 0s 285us/step\n",
            "100/100 [==============================] - 0s 285us/step\n",
            "100/100 [==============================] - 0s 281us/step\n",
            "100/100 [==============================] - 0s 298us/step\n"
          ],
          "name": "stdout"
        }
      ]
    },
    {
      "cell_type": "code",
      "metadata": {
        "id": "qeBG0oxqVQ5B",
        "colab_type": "code",
        "outputId": "5300c46e-fc69-497f-f49a-5eb8a824270c",
        "colab": {
          "base_uri": "https://localhost:8080/",
          "height": 187
        }
      },
      "source": [
        "mobile_L2_dist[:5]"
      ],
      "execution_count": 0,
      "outputs": [
        {
          "output_type": "execute_result",
          "data": {
            "text/plain": [
              "[0.0,\n",
              " 0.8376770925316908,\n",
              " 1.2263613695128561,\n",
              " 4.025131786272736,\n",
              " 12.553505340799703,\n",
              " 17.845581958821874,\n",
              " 30.798292557817255,\n",
              " 60.53845128629541,\n",
              " 73.96686461498528,\n",
              " 75.46612777869542]"
            ]
          },
          "metadata": {
            "tags": []
          },
          "execution_count": 101
        }
      ]
    },
    {
      "cell_type": "code",
      "metadata": {
        "id": "CCnYQ_xCP7T3",
        "colab_type": "code",
        "outputId": "877ee94d-691c-4101-abf2-bcc7b090599c",
        "colab": {
          "base_uri": "https://localhost:8080/",
          "height": 514
        }
      },
      "source": [
        "fig = plt.figure(figsize=(10,8))\n",
        "ax = plt.subplot(111)\n",
        "#plt.plot(L2_dist,score_adv,'--')\n",
        "#ax.plot(L2_dist_jump,score_adv_jump, \"b--\", label=\"FGSM Jump RELU\")\n",
        "ax.plot(L2_dist, score_adv, \"b--\", label=\"EfficientNet-B3\")\n",
        "ax.plot(vgg19_L2_dist,vgg19_score_adv, \"g--\", label=\"VGG19\")\n",
        "ax.plot(dense_L2_dist,dense_score_adv, \"r--\", label=\"DenseNet121\")\n",
        "ax.plot(mobile_L2_dist[:6],mobile_score_adv[:6], \"m--\", label=\"MobileNet\")\n",
        "ax.legend(loc='upper right',prop={'size': 12})\n",
        "plt.xlabel('L2_distance')\n",
        "plt.ylabel('accuracy')\n",
        "plt.title('accuracy vs L2 distance')\n",
        "\n",
        "plt.show()"
      ],
      "execution_count": 0,
      "outputs": [
        {
          "output_type": "display_data",
          "data": {
            "image/png": "[encoded data removed]",
            "text/plain": [
              "<Figure size 720x576 with 1 Axes>"
            ]
          },
          "metadata": {
            "tags": []
          }
        }
      ]
    },
    {
      "cell_type": "code",
      "metadata": {
        "id": "AKxgy7a217P3",
        "colab_type": "code",
        "outputId": "36e6b9f8-f1d6-4019-9ef1-b0285e364bb9",
        "colab": {
          "base_uri": "https://localhost:8080/",
          "height": 151
        }
      },
      "source": [
        "\n",
        "\n",
        "\n",
        "resnet2 =keras.applications.mobilenet.MobileNet(include_top=False, weights='imagenet', input_shape=(32,32,3), pooling=None)\n",
        "\n",
        "\n",
        "resnet2.trainable = False\n",
        "\n",
        "x = resnet2.output\n",
        "x = Flatten()(x)\n",
        "x = Dense(512, activation=\"relu\")(x)\n",
        "x = Dropout(0.2)(x)\n",
        "predictions = Dense(units = 10, activation=\"softmax\")(x)\n",
        "model_resnetV2 = Model(input = resnet2.input, output = predictions)\n",
        "\n",
        "model_resnetV2.compile(optimizer = Adam() ,loss='categorical_crossentropy',metrics=['accuracy'])"
      ],
      "execution_count": 0,
      "outputs": [
        {
          "output_type": "stream",
          "text": [
            "/usr/local/lib/python3.6/dist-packages/keras_applications/mobilenet.py:207: UserWarning: `input_shape` is undefined or non-square, or `rows` is not in [128, 160, 192, 224]. Weights for input shape (224, 224) will be loaded as the default.\n",
            "  warnings.warn('`input_shape` is undefined or non-square, '\n",
            "/usr/local/lib/python3.6/dist-packages/ipykernel_launcher.py:14: UserWarning: Update your `Model` call to the Keras 2 API: `Model(inputs=Tensor(\"in..., outputs=Tensor(\"de...)`\n",
            "  \n"
          ],
          "name": "stderr"
        }
      ]
    },
    {
      "cell_type": "code",
      "metadata": {
        "id": "m5oN7DHN2cBJ",
        "colab_type": "code",
        "outputId": "9dc733c4-f5bd-4359-98e1-87f17febf648",
        "colab": {
          "base_uri": "https://localhost:8080/",
          "height": 325
        }
      },
      "source": [
        "\n",
        "\n",
        "\n",
        "\n",
        "\n",
        "resnet =keras.applications.ResNet50(include_top=False, weights='imagenet', input_shape=(32,32,3), pooling=None)\n",
        "\n",
        "\n",
        "resnet.trainable = False\n",
        "\n",
        "x = resnet.output\n",
        "x = Flatten()(x)\n",
        "x = Dense(512, activation=\"relu\")(x)\n",
        "x = Dropout(0.2)(x)\n",
        "predictions = Dense(units = 10, activation=\"softmax\")(x)\n",
        "model_resnet = Model(input = resnet.input, output = predictions)\n",
        "\n",
        "model_resnet.compile(optimizer = Adam() ,loss='categorical_crossentropy',metrics=['accuracy'])"
      ],
      "execution_count": 0,
      "outputs": [
        {
          "output_type": "stream",
          "text": [
            "/usr/local/lib/python3.6/dist-packages/keras_applications/resnet50.py:265: UserWarning: The output shape of `ResNet50(include_top=False)` has been changed since Keras 2.2.0.\n",
            "  warnings.warn('The output shape of `ResNet50(include_top=False)` '\n"
          ],
          "name": "stderr"
        },
        {
          "output_type": "stream",
          "text": [
            "Downloading data from https://github.com/fchollet/deep-learning-models/releases/download/v0.2/resnet50_weights_tf_dim_ordering_tf_kernels_notop.h5\n",
            "94658560/94653016 [==============================] - 1s 0us/step\n"
          ],
          "name": "stdout"
        },
        {
          "output_type": "stream",
          "text": [
            "/usr/local/lib/python3.6/dist-packages/ipykernel_launcher.py:16: UserWarning: Update your `Model` call to the Keras 2 API: `Model(inputs=Tensor(\"in..., outputs=Tensor(\"de...)`\n",
            "  app.launch_new_instance()\n"
          ],
          "name": "stderr"
        }
      ]
    },
    {
      "cell_type": "code",
      "metadata": {
        "id": "2y86cxJNXX74",
        "colab_type": "code",
        "outputId": "bdaf0b2e-a2d8-4e55-af3d-8d1be659e5b7",
        "colab": {
          "base_uri": "https://localhost:8080/",
          "height": 136
        }
      },
      "source": [
        "model_resnet.fit_generator(train_generator, steps_per_epoch=60000//64, epochs=3, \n",
        "                    validation_data=test_generator, validation_steps=10000//64)"
      ],
      "execution_count": 0,
      "outputs": [
        {
          "output_type": "stream",
          "text": [
            "Epoch 1/3\n",
            "937/937 [==============================] - 117s 124ms/step - loss: 0.3813 - acc: 0.9127 - val_loss: 2.7200 - val_acc: 0.6094\n",
            "Epoch 2/3\n",
            "937/937 [==============================] - 93s 99ms/step - loss: 0.1648 - acc: 0.9550 - val_loss: 0.0642 - val_acc: 0.9784\n",
            "Epoch 3/3\n",
            "937/937 [==============================] - 93s 99ms/step - loss: 0.0819 - acc: 0.9762 - val_loss: 0.0448 - val_acc: 0.9870\n"
          ],
          "name": "stdout"
        },
        {
          "output_type": "execute_result",
          "data": {
            "text/plain": [
              "<keras.callbacks.History at 0x7f52f36e6cc0>"
            ]
          },
          "metadata": {
            "tags": []
          },
          "execution_count": 37
        }
      ]
    },
    {
      "cell_type": "code",
      "metadata": {
        "id": "ebCmCLVOZFF2",
        "colab_type": "code",
        "outputId": "ad9140ca-3793-4bf3-e06b-6599854a14d4",
        "colab": {
          "base_uri": "https://localhost:8080/",
          "height": 151
        }
      },
      "source": [
        "from foolbox.criteria import TopKMisclassification\n",
        "from foolbox.criteria import TargetClass\n",
        "\n",
        "fmodel = foolbox.models.KerasModel(model_resnet, bounds=(0,1))\n",
        "attack=foolbox.attacks.gradient.GradientSignAttack(fmodel,criterion=Misclassification())\n",
        "\n",
        "num_sample = 100\n",
        "\n",
        "\n",
        "adv_input = []\n",
        "\n",
        "\n",
        "eps_max = np.linspace(0,0.5,10)\n",
        "#adv_input = np.zeros((len(eps_max),10000,28,28,1))\n",
        "for i in range (len(eps_max)):\n",
        "    for j in range(num_sample):\n",
        "        adversarial_all = attack(X_test3[j],labels[j],max_epsilon=eps_max[i],epsilons=1)\n",
        "        if np.size(adversarial_all) == 1:\n",
        "            adversarial_all = X_test3[j].reshape(1,32,32,3)\n",
        "            adv_input.append(adversarial_all)\n",
        "        else:\n",
        "            adversarial_all = np.array(adversarial_all).reshape(1,32,32,3) # reshaping it for model prediction\n",
        " \n",
        "            adv_input.append(adversarial_all)"
      ],
      "execution_count": 0,
      "outputs": [
        {
          "output_type": "stream",
          "text": [
            "/usr/local/lib/python3.6/dist-packages/foolbox/attacks/base.py:148: UserWarning: GradientSignAttack did not find an adversarial, maybe the model or the criterion is not supported by this attack.\n",
            "  ' attack.'.format(self.name()))\n",
            "/usr/local/lib/python3.6/dist-packages/foolbox/attacks/base.py:129: UserWarning: Not running the attack because the original input is already misclassified and the adversarial thus has a distance of 0.\n",
            "  warnings.warn('Not running the attack because the original input'\n"
          ],
          "name": "stderr"
        }
      ]
    },
    {
      "cell_type": "code",
      "metadata": {
        "id": "qPP5eZkaaBjW",
        "colab_type": "code",
        "outputId": "1c53b637-d6d5-47d3-c377-840d6701dc1f",
        "colab": {
          "base_uri": "https://localhost:8080/",
          "height": 204
        }
      },
      "source": [
        "resnet_score_adv, resnet_L2_dist = accuacy_vs_L2(adv_input,num_sample,eps_max,y_test,X_test3,model_resnet)"
      ],
      "execution_count": 0,
      "outputs": [
        {
          "output_type": "stream",
          "text": [
            "(1000, 32, 32, 3)\n",
            "100/100 [==============================] - 1s 5ms/step\n",
            "100/100 [==============================] - 0s 673us/step\n",
            "100/100 [==============================] - 0s 563us/step\n",
            "100/100 [==============================] - 0s 585us/step\n",
            "100/100 [==============================] - 0s 556us/step\n",
            "100/100 [==============================] - 0s 586us/step\n",
            "100/100 [==============================] - 0s 559us/step\n",
            "100/100 [==============================] - 0s 551us/step\n",
            "100/100 [==============================] - 0s 555us/step\n",
            "100/100 [==============================] - 0s 545us/step\n"
          ],
          "name": "stdout"
        }
      ]
    },
    {
      "cell_type": "code",
      "metadata": {
        "id": "-6xu9Lg8an3M",
        "colab_type": "code",
        "outputId": "8129c00f-fc6b-4267-8729-65e9c68ad0fe",
        "colab": {
          "base_uri": "https://localhost:8080/",
          "height": 514
        }
      },
      "source": [
        "fig = plt.figure(figsize=(10,8))\n",
        "ax = plt.subplot(111)\n",
        "#plt.plot(L2_dist,score_adv,'--')\n",
        "#ax.plot(L2_dist_jump,score_adv_jump, \"b--\", label=\"FGSM Jump RELU\")\n",
        "ax.plot(L2_dist, score_adv, \"b--\", label=\"EfficientNet-B3\")\n",
        "ax.plot(vgg19_L2_dist,vgg19_score_adv, \"g--\", label=\"VGG19\")\n",
        "ax.plot(dense_L2_dist,dense_score_adv, \"r--\", label=\"DenseNet121\")\n",
        "ax.plot(mobile_L2_dist[:6],mobile_score_adv[:6], \"m--\", label=\"MobileNet\")\n",
        "ax.plot(resnet_L2_dist,resnet_score_adv, \"C1--\", label=\"ResNet101V2\")\n",
        "\n",
        "ax.legend(loc='upper right',prop={'size': 12})\n",
        "plt.xlabel('L2_distance')\n",
        "plt.ylabel('accuracy')\n",
        "plt.title('accuracy vs L2 distance')\n",
        "\n",
        "plt.show()"
      ],
      "execution_count": 0,
      "outputs": [
        {
          "output_type": "display_data",
          "data": {
            "image/png": "[encoded data removed]",
            "text/plain": [
              "<Figure size 720x576 with 1 Axes>"
            ]
          },
          "metadata": {
            "tags": []
          }
        }
      ]
    },
    {
      "cell_type": "markdown",
      "metadata": {
        "id": "t7pepEhGNYHi",
        "colab_type": "text"
      },
      "source": [
        "## Below is our orignal model (the one we have been using throughtout this project)"
      ]
    },
    {
      "cell_type": "code",
      "metadata": {
        "id": "h5sQ4f_LugUN",
        "colab_type": "code",
        "colab": {}
      },
      "source": [
        "model = Sequential()\n",
        "\n",
        "model.add(Conv2D(32, (3, 3), input_shape=(32,32,3)))\n",
        "model.add(Activation('relu'))\n",
        "BatchNormalization(axis=-1)\n",
        "model.add(Conv2D(32, (3, 3)))\n",
        "model.add(Activation('relu'))\n",
        "model.add(MaxPooling2D(pool_size=(2,2)))\n",
        "\n",
        "BatchNormalization(axis=-1)\n",
        "model.add(Conv2D(64,(3, 3)))\n",
        "model.add(Activation('relu'))\n",
        "BatchNormalization(axis=-1)\n",
        "model.add(Conv2D(64, (3, 3)))\n",
        "model.add(Activation('relu'))\n",
        "model.add(MaxPooling2D(pool_size=(2,2)))\n",
        "\n",
        "model.add(Flatten())\n",
        "# Fully connected layer\n",
        "\n",
        "BatchNormalization()\n",
        "model.add(Dense(512))\n",
        "model.add(Activation('relu'))\n",
        "BatchNormalization()\n",
        "model.add(Dropout(0.2))\n",
        "model.add(Dense(10))\n",
        "\n",
        "\n",
        "\n",
        "model.add(Activation('softmax'))"
      ],
      "execution_count": 0,
      "outputs": []
    },
    {
      "cell_type": "code",
      "metadata": {
        "id": "e-EUNDhrulcF",
        "colab_type": "code",
        "outputId": "80e299da-9b39-42d9-8e86-e85eeb6b5ce1",
        "colab": {
          "base_uri": "https://localhost:8080/",
          "height": 136
        }
      },
      "source": [
        "model.compile(loss='categorical_crossentropy', optimizer=Adam(), metrics=['accuracy'])\n",
        "\n",
        "model.fit_generator(train_generator, steps_per_epoch=60000//64, epochs=3, \n",
        "                    validation_data=test_generator, validation_steps=10000//64)"
      ],
      "execution_count": 0,
      "outputs": [
        {
          "output_type": "stream",
          "text": [
            "Epoch 1/3\n",
            "937/937 [==============================] - 59s 63ms/step - loss: 0.1850 - acc: 0.9415 - val_loss: 0.0400 - val_acc: 0.9861\n",
            "Epoch 2/3\n",
            "937/937 [==============================] - 36s 38ms/step - loss: 0.0621 - acc: 0.9810 - val_loss: 0.0251 - val_acc: 0.9912\n",
            "Epoch 3/3\n",
            "937/937 [==============================] - 36s 38ms/step - loss: 0.0454 - acc: 0.9858 - val_loss: 0.0187 - val_acc: 0.9927\n"
          ],
          "name": "stdout"
        },
        {
          "output_type": "execute_result",
          "data": {
            "text/plain": [
              "<keras.callbacks.History at 0x7f52bacddcf8>"
            ]
          },
          "metadata": {
            "tags": []
          },
          "execution_count": 58
        }
      ]
    },
    {
      "cell_type": "code",
      "metadata": {
        "id": "4zQMo3jOvIyH",
        "colab_type": "code",
        "outputId": "86b84e90-33bb-43ee-bada-429f72f3438d",
        "colab": {
          "base_uri": "https://localhost:8080/",
          "height": 131
        }
      },
      "source": [
        "from foolbox.criteria import TopKMisclassification\n",
        "from foolbox.criteria import TargetClass\n",
        "\n",
        "fmodel = foolbox.models.KerasModel(model, bounds=(0,1))\n",
        "attack=foolbox.attacks.gradient.GradientSignAttack(fmodel,criterion=Misclassification())\n",
        "\n",
        "num_sample = 100\n",
        "\n",
        "\n",
        "adv_input = []\n",
        "\n",
        "eps_max = np.linspace(0,0.5,10)\n",
        "\n",
        "for i in range (len(eps_max)):\n",
        "    for j in range(num_sample):\n",
        "        adversarial_all = attack(X_test3[j],labels[j],max_epsilon=eps_max[i],epsilons=1)\n",
        "        if np.size(adversarial_all) == 1:\n",
        "            adversarial_all = X_test3[j].reshape(1,32,32,3)\n",
        "            adv_input.append(adversarial_all)\n",
        "        else:\n",
        "            adversarial_all = np.array(adversarial_all).reshape(1,32,32,3) # reshaping it for model prediction\n",
        " \n",
        "            adv_input.append(adversarial_all)"
      ],
      "execution_count": 0,
      "outputs": [
        {
          "output_type": "stream",
          "text": [
            "/usr/local/lib/python3.6/dist-packages/foolbox/attacks/base.py:148: UserWarning: GradientSignAttack did not find an adversarial, maybe the model or the criterion is not supported by this attack.\n",
            "  ' attack.'.format(self.name()))\n"
          ],
          "name": "stderr"
        }
      ]
    },
    {
      "cell_type": "code",
      "metadata": {
        "id": "QaeeY2tIvY3s",
        "colab_type": "code",
        "outputId": "d89f8e8a-296c-4d76-c35d-46d94cea9fc9",
        "colab": {
          "base_uri": "https://localhost:8080/",
          "height": 204
        }
      },
      "source": [
        "model_score_adv, model_L2_dist = accuacy_vs_L2(adv_input,num_sample,eps_max,y_test,X_test3,model)"
      ],
      "execution_count": 0,
      "outputs": [
        {
          "output_type": "stream",
          "text": [
            "(1000, 32, 32, 3)\n",
            "100/100 [==============================] - 0s 522us/step\n",
            "100/100 [==============================] - 0s 343us/step\n",
            "100/100 [==============================] - 0s 354us/step\n",
            "100/100 [==============================] - 0s 354us/step\n",
            "100/100 [==============================] - 0s 348us/step\n",
            "100/100 [==============================] - 0s 354us/step\n",
            "100/100 [==============================] - 0s 350us/step\n",
            "100/100 [==============================] - 0s 355us/step\n",
            "100/100 [==============================] - 0s 354us/step\n",
            "100/100 [==============================] - 0s 412us/step\n"
          ],
          "name": "stdout"
        }
      ]
    },
    {
      "cell_type": "code",
      "metadata": {
        "id": "cOk7vXE-vfQI",
        "colab_type": "code",
        "outputId": "aab171ce-a952-48e7-da39-a1e1dfefa9cb",
        "colab": {
          "base_uri": "https://localhost:8080/",
          "height": 514
        }
      },
      "source": [
        "fig = plt.figure(figsize=(10,8))\n",
        "ax = plt.subplot(111)\n",
        "#plt.plot(L2_dist,score_adv,'--')\n",
        "#ax.plot(L2_dist_jump,score_adv_jump, \"b--\", label=\"FGSM Jump RELU\")\n",
        "ax.plot(L2_dist, score_adv, \"b--\", label=\"EfficientNet-B3\")\n",
        "ax.plot(vgg19_L2_dist,vgg19_score_adv, \"g--\", label=\"VGG19\")\n",
        "ax.plot(dense_L2_dist[:10],dense_score_adv[:10], \"r--\", label=\"DenseNet121\")\n",
        "ax.plot(mobile_L2_dist[:6],mobile_score_adv[:6], \"m--\", label=\"MobileNetV2\")\n",
        "ax.plot(resnet_L2_dist,resnet_score_adv, \"C1--\", label=\"ResNet101V2\")\n",
        "ax.plot(model_L2_dist[:6],model_score_adv[:6], \"C7\", label=\"Base model\")\n",
        "\n",
        "ax.legend(loc='best',prop={'size': 12})\n",
        "plt.xlabel('L2_distance')\n",
        "plt.ylabel('accuracy')\n",
        "plt.title('PGD attack : accuracy vs L2 distance')\n",
        "\n",
        "plt.show()"
      ],
      "execution_count": 0,
      "outputs": [
        {
          "output_type": "display_data",
          "data": {
            "image/png": "[encoded data removed]",
            "text/plain": [
              "<Figure size 720x576 with 1 Axes>"
            ]
          },
          "metadata": {
            "tags": []
          }
        }
      ]
    }
  ]
}
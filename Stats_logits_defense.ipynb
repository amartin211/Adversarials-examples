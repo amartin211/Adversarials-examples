{
  "nbformat": 4,
  "nbformat_minor": 0,
  "metadata": {
    "colab": {
      "name": "Stats_logits_defense.ipynb",
      "version": "0.3.2",
      "provenance": []
    },
    "kernelspec": {
      "name": "python3",
      "display_name": "Python 3"
    },
    "accelerator": "GPU"
  },
  "cells": [
    {
      "cell_type": "code",
      "metadata": {
        "id": "ov9eG0CfOlp3",
        "colab_type": "code",
        "colab": {
          "base_uri": "https://localhost:8080/",
          "height": 85
        },
        "outputId": "be6fcc81-c91e-4581-8c22-1a263590b3e1"
      },
      "source": [
        "import keras\n",
        "from keras.datasets import mnist\n",
        "from keras.models import Sequential\n",
        "from keras.layers import Dense, Dropout, Flatten\n",
        "from keras.layers import Conv2D, MaxPooling2D\n",
        "from keras import backend as K\n",
        "import numpy as np\n",
        "import pandas as pd\n",
        "import matplotlib.pyplot as plt\n",
        "%matplotlib inline\n",
        "from keras.datasets import mnist\n",
        "from keras.models import Sequential\n",
        "from keras.layers import Dense, Dropout, Activation, Flatten\n",
        "from keras.optimizers import Adam\n",
        "from keras.layers.normalization import BatchNormalization\n",
        "from keras.utils import np_utils\n",
        "from keras.layers import Conv2D, MaxPooling2D, ZeroPadding2D, GlobalAveragePooling2D\n",
        "from keras.layers.advanced_activations import LeakyReLU \n",
        "from keras.preprocessing.image import ImageDataGenerator\n",
        "import matplotlib.pyplot as plt\n",
        "\n",
        "num_classes = 10\n",
        "\n",
        "img_rows, img_cols = 28, 28\n",
        "\n",
        "# the data, split between train and test sets\n",
        "(x_train, y_train), (x_test, y_test) = mnist.load_data()\n",
        "\n",
        "if K.image_data_format() == 'channels_first':\n",
        "    x_train = x_train.reshape(x_train.shape[0], 1, img_rows, img_cols)\n",
        "    x_test = x_test.reshape(x_test.shape[0], 1, img_rows, img_cols)\n",
        "    input_shape = (1, img_rows, img_cols)\n",
        "else:\n",
        "    x_train = x_train.reshape(x_train.shape[0], img_rows, img_cols, 1)\n",
        "    x_test = x_test.reshape(x_test.shape[0], img_rows, img_cols, 1)\n",
        "    input_shape = (img_rows, img_cols, 1)\n",
        "\n",
        "x_train = x_train.astype('float32')\n",
        "x_test = x_test.astype('float32')\n",
        "x_train /= 255\n",
        "x_test /= 255\n",
        "print('x_train shape:', x_train.shape)\n",
        "print(x_train.shape[0], 'train samples')\n",
        "print(x_test.shape[0], 'test samples')"
      ],
      "execution_count": 1,
      "outputs": [
        {
          "output_type": "stream",
          "text": [
            "Using TensorFlow backend.\n"
          ],
          "name": "stderr"
        },
        {
          "output_type": "stream",
          "text": [
            "x_train shape: (60000, 28, 28, 1)\n",
            "60000 train samples\n",
            "10000 test samples\n"
          ],
          "name": "stdout"
        }
      ]
    },
    {
      "cell_type": "code",
      "metadata": {
        "id": "C86NBO9yOyfV",
        "colab_type": "code",
        "colab": {}
      },
      "source": [
        "# changing y labels from a scalar to a one hot encoder representation\n",
        "\n",
        "\n",
        "y_train = keras.utils.to_categorical(y_train, num_classes)\n",
        "y_test = keras.utils.to_categorical(y_test, num_classes)"
      ],
      "execution_count": 0,
      "outputs": []
    },
    {
      "cell_type": "code",
      "metadata": {
        "id": "AbPmXHPPPB1i",
        "colab_type": "code",
        "colab": {
          "base_uri": "https://localhost:8080/",
          "height": 975
        },
        "outputId": "06e9587f-c52c-434e-cfa9-7a1489ac77e1"
      },
      "source": [
        "# Our base model \n",
        "\n",
        "model = Sequential()\n",
        "\n",
        "model.add(Conv2D(32, (3, 3), input_shape=(28,28,1)))\n",
        "model.add(Activation('relu'))\n",
        "BatchNormalization(axis=-1)\n",
        "model.add(Conv2D(32, (3, 3)))\n",
        "model.add(Activation('relu'))\n",
        "model.add(MaxPooling2D(pool_size=(2,2)))\n",
        "\n",
        "BatchNormalization(axis=-1)\n",
        "model.add(Conv2D(64,(3, 3)))\n",
        "model.add(Activation('relu'))\n",
        "BatchNormalization(axis=-1)\n",
        "model.add(Conv2D(64, (3, 3)))\n",
        "model.add(Activation('relu'))\n",
        "model.add(MaxPooling2D(pool_size=(2,2)))\n",
        "\n",
        "model.add(Flatten())\n",
        "# Fully connected layer\n",
        "\n",
        "BatchNormalization()\n",
        "model.add(Dense(512))\n",
        "model.add(Activation('relu'))\n",
        "BatchNormalization()\n",
        "model.add(Dropout(0.2))\n",
        "model.add(Dense(10))\n",
        "\n",
        "\n",
        "model.add(Activation('softmax'))\n",
        "print(model.summary())"
      ],
      "execution_count": 3,
      "outputs": [
        {
          "output_type": "stream",
          "text": [
            "WARNING: Logging before flag parsing goes to stderr.\n",
            "W0704 13:50:42.381972 140095235344256 deprecation_wrapper.py:119] From /usr/local/lib/python3.6/dist-packages/keras/backend/tensorflow_backend.py:74: The name tf.get_default_graph is deprecated. Please use tf.compat.v1.get_default_graph instead.\n",
            "\n",
            "W0704 13:50:42.406879 140095235344256 deprecation_wrapper.py:119] From /usr/local/lib/python3.6/dist-packages/keras/backend/tensorflow_backend.py:517: The name tf.placeholder is deprecated. Please use tf.compat.v1.placeholder instead.\n",
            "\n",
            "W0704 13:50:42.412402 140095235344256 deprecation_wrapper.py:119] From /usr/local/lib/python3.6/dist-packages/keras/backend/tensorflow_backend.py:4138: The name tf.random_uniform is deprecated. Please use tf.random.uniform instead.\n",
            "\n",
            "W0704 13:50:42.439077 140095235344256 deprecation_wrapper.py:119] From /usr/local/lib/python3.6/dist-packages/keras/backend/tensorflow_backend.py:3976: The name tf.nn.max_pool is deprecated. Please use tf.nn.max_pool2d instead.\n",
            "\n",
            "W0704 13:50:42.485765 140095235344256 deprecation_wrapper.py:119] From /usr/local/lib/python3.6/dist-packages/keras/backend/tensorflow_backend.py:133: The name tf.placeholder_with_default is deprecated. Please use tf.compat.v1.placeholder_with_default instead.\n",
            "\n",
            "W0704 13:50:42.493599 140095235344256 deprecation.py:506] From /usr/local/lib/python3.6/dist-packages/keras/backend/tensorflow_backend.py:3445: calling dropout (from tensorflow.python.ops.nn_ops) with keep_prob is deprecated and will be removed in a future version.\n",
            "Instructions for updating:\n",
            "Please use `rate` instead of `keep_prob`. Rate should be set to `rate = 1 - keep_prob`.\n"
          ],
          "name": "stderr"
        },
        {
          "output_type": "stream",
          "text": [
            "_________________________________________________________________\n",
            "Layer (type)                 Output Shape              Param #   \n",
            "=================================================================\n",
            "conv2d_1 (Conv2D)            (None, 26, 26, 32)        320       \n",
            "_________________________________________________________________\n",
            "activation_1 (Activation)    (None, 26, 26, 32)        0         \n",
            "_________________________________________________________________\n",
            "conv2d_2 (Conv2D)            (None, 24, 24, 32)        9248      \n",
            "_________________________________________________________________\n",
            "activation_2 (Activation)    (None, 24, 24, 32)        0         \n",
            "_________________________________________________________________\n",
            "max_pooling2d_1 (MaxPooling2 (None, 12, 12, 32)        0         \n",
            "_________________________________________________________________\n",
            "conv2d_3 (Conv2D)            (None, 10, 10, 64)        18496     \n",
            "_________________________________________________________________\n",
            "activation_3 (Activation)    (None, 10, 10, 64)        0         \n",
            "_________________________________________________________________\n",
            "conv2d_4 (Conv2D)            (None, 8, 8, 64)          36928     \n",
            "_________________________________________________________________\n",
            "activation_4 (Activation)    (None, 8, 8, 64)          0         \n",
            "_________________________________________________________________\n",
            "max_pooling2d_2 (MaxPooling2 (None, 4, 4, 64)          0         \n",
            "_________________________________________________________________\n",
            "flatten_1 (Flatten)          (None, 1024)              0         \n",
            "_________________________________________________________________\n",
            "dense_1 (Dense)              (None, 512)               524800    \n",
            "_________________________________________________________________\n",
            "activation_5 (Activation)    (None, 512)               0         \n",
            "_________________________________________________________________\n",
            "dropout_1 (Dropout)          (None, 512)               0         \n",
            "_________________________________________________________________\n",
            "dense_2 (Dense)              (None, 10)                5130      \n",
            "_________________________________________________________________\n",
            "activation_6 (Activation)    (None, 10)                0         \n",
            "=================================================================\n",
            "Total params: 594,922\n",
            "Trainable params: 594,922\n",
            "Non-trainable params: 0\n",
            "_________________________________________________________________\n",
            "None\n"
          ],
          "name": "stdout"
        }
      ]
    },
    {
      "cell_type": "code",
      "metadata": {
        "id": "NPfvpLEQPEVt",
        "colab_type": "code",
        "colab": {
          "base_uri": "https://localhost:8080/",
          "height": 125
        },
        "outputId": "0e95cd7c-1200-4d09-d705-64d8eb33ffe5"
      },
      "source": [
        "\n",
        "\n",
        "\n",
        "model.compile(loss='categorical_crossentropy', optimizer=Adam(), metrics=['accuracy'])\n",
        "\n",
        "\n",
        "# data augmentation with spacial modifications\n",
        "gen = ImageDataGenerator(rotation_range=8, width_shift_range=0.08, shear_range=0.3,\n",
        "                         height_shift_range=0.08, zoom_range=0.08)\n",
        "\n",
        "test_gen = ImageDataGenerator()\n",
        "\n",
        "train_generator = gen.flow(x_train, y_train, batch_size=64)\n",
        "test_generator = test_gen.flow(x_test, y_test, batch_size=64)"
      ],
      "execution_count": 4,
      "outputs": [
        {
          "output_type": "stream",
          "text": [
            "W0704 13:50:46.874651 140095235344256 deprecation_wrapper.py:119] From /usr/local/lib/python3.6/dist-packages/keras/optimizers.py:790: The name tf.train.Optimizer is deprecated. Please use tf.compat.v1.train.Optimizer instead.\n",
            "\n",
            "W0704 13:50:46.882251 140095235344256 deprecation_wrapper.py:119] From /usr/local/lib/python3.6/dist-packages/keras/backend/tensorflow_backend.py:3295: The name tf.log is deprecated. Please use tf.math.log instead.\n",
            "\n"
          ],
          "name": "stderr"
        }
      ]
    },
    {
      "cell_type": "code",
      "metadata": {
        "id": "u5ipiUXVPEM5",
        "colab_type": "code",
        "colab": {
          "base_uri": "https://localhost:8080/",
          "height": 1000
        },
        "outputId": "5d5a5e56-0d1a-4259-8f7a-cb72732caa15"
      },
      "source": [
        "\n",
        "model.fit_generator(train_generator, steps_per_epoch=60000//64, epochs=5, \n",
        "                    validation_data=test_generator, validation_steps=10000//64)"
      ],
      "execution_count": 5,
      "outputs": [
        {
          "output_type": "stream",
          "text": [
            "W0704 13:50:49.553035 140095235344256 deprecation.py:323] From /usr/local/lib/python3.6/dist-packages/tensorflow/python/ops/math_grad.py:1250: add_dispatch_support.<locals>.wrapper (from tensorflow.python.ops.array_ops) is deprecated and will be removed in a future version.\n",
            "Instructions for updating:\n",
            "Use tf.where in 2.0, which has the same broadcast rule as np.where\n"
          ],
          "name": "stderr"
        },
        {
          "output_type": "stream",
          "text": [
            "Epoch 1/5\n",
            "937/937 [==============================] - 21s 23ms/step - loss: 0.1991 - acc: 0.9364 - val_loss: 0.0303 - val_acc: 0.9904\n",
            "Epoch 2/5\n",
            "937/937 [==============================] - 18s 19ms/step - loss: 0.0623 - acc: 0.9809 - val_loss: 0.0200 - val_acc: 0.9924\n",
            "Epoch 3/5\n",
            "937/937 [==============================] - 18s 19ms/step - loss: 0.0456 - acc: 0.9862 - val_loss: 0.0225 - val_acc: 0.9918\n",
            "Epoch 4/5\n",
            "937/937 [==============================] - 18s 19ms/step - loss: 0.0427 - acc: 0.9872 - val_loss: 0.0165 - val_acc: 0.9948\n",
            "Epoch 5/5\n",
            "937/937 [==============================] - 19s 20ms/step - loss: 0.0338 - acc: 0.9897 - val_loss: 0.0160 - val_acc: 0.9952\n"
          ],
          "name": "stdout"
        },
        {
          "output_type": "execute_result",
          "data": {
            "text/plain": [
              "<keras.callbacks.History at 0x7f6a54d9b2e8>"
            ]
          },
          "metadata": {
            "tags": []
          },
          "execution_count": 5
        }
      ]
    },
    {
      "cell_type": "code",
      "metadata": {
        "id": "tvcXpO_hPJKA",
        "colab_type": "code",
        "colab": {
          "base_uri": "https://localhost:8080/",
          "height": 250
        },
        "outputId": "36e2a73d-a46c-42a1-d28f-593c63ae5507"
      },
      "source": [
        "# Installing foolbox package (adversarial library)\n",
        "\n",
        "!pip install foolbox"
      ],
      "execution_count": 6,
      "outputs": [
        {
          "output_type": "stream",
          "text": [
            "Requirement already satisfied: foolbox in /usr/local/lib/python3.6/dist-packages (1.8.0)\n",
            "Requirement already satisfied: setuptools in /usr/local/lib/python3.6/dist-packages (from foolbox) (41.0.1)\n",
            "Requirement already satisfied: requests in /usr/local/lib/python3.6/dist-packages (from foolbox) (2.21.0)\n",
            "Requirement already satisfied: numpy in /usr/local/lib/python3.6/dist-packages (from foolbox) (1.16.4)\n",
            "Requirement already satisfied: GitPython in /usr/local/lib/python3.6/dist-packages (from foolbox) (2.1.11)\n",
            "Requirement already satisfied: scipy in /usr/local/lib/python3.6/dist-packages (from foolbox) (1.3.0)\n",
            "Requirement already satisfied: urllib3<1.25,>=1.21.1 in /usr/local/lib/python3.6/dist-packages (from requests->foolbox) (1.24.3)\n",
            "Requirement already satisfied: chardet<3.1.0,>=3.0.2 in /usr/local/lib/python3.6/dist-packages (from requests->foolbox) (3.0.4)\n",
            "Requirement already satisfied: idna<2.9,>=2.5 in /usr/local/lib/python3.6/dist-packages (from requests->foolbox) (2.8)\n",
            "Requirement already satisfied: certifi>=2017.4.17 in /usr/local/lib/python3.6/dist-packages (from requests->foolbox) (2019.6.16)\n",
            "Requirement already satisfied: gitdb2>=2.0.0 in /usr/local/lib/python3.6/dist-packages (from GitPython->foolbox) (2.0.5)\n",
            "Requirement already satisfied: smmap2>=2.0.0 in /usr/local/lib/python3.6/dist-packages (from gitdb2>=2.0.0->GitPython->foolbox) (2.0.5)\n"
          ],
          "name": "stdout"
        }
      ]
    },
    {
      "cell_type": "code",
      "metadata": {
        "id": "pvvwBrX-PLb9",
        "colab_type": "code",
        "colab": {}
      },
      "source": [
        "import foolbox\n",
        "import keras\n",
        "import numpy as np\n",
        "from keras import backend\n",
        "from keras.models import load_model\n",
        "from keras.datasets import mnist\n",
        "from keras.utils import np_utils\n",
        "from foolbox.attacks import SaliencyMapAttack\n",
        "from foolbox.criteria import Misclassification\n",
        "import matplotlib.pyplot as plt"
      ],
      "execution_count": 0,
      "outputs": []
    },
    {
      "cell_type": "code",
      "metadata": {
        "id": "1cAPHDvyPNjh",
        "colab_type": "code",
        "colab": {
          "base_uri": "https://localhost:8080/",
          "height": 34
        },
        "outputId": "f6c1c7e2-ac88-4a56-9107-985b37ce0ad8"
      },
      "source": [
        "_,(images, labels) = mnist.load_data()\n",
        "images = images.reshape(10000,28,28,1)\n",
        "images= images.astype('float32')\n",
        "images /= 255\n",
        "images[1].shape\n",
        "labels.shape"
      ],
      "execution_count": 8,
      "outputs": [
        {
          "output_type": "execute_result",
          "data": {
            "text/plain": [
              "(10000,)"
            ]
          },
          "metadata": {
            "tags": []
          },
          "execution_count": 8
        }
      ]
    },
    {
      "cell_type": "code",
      "metadata": {
        "id": "2zXoNvzPPShn",
        "colab_type": "code",
        "colab": {}
      },
      "source": [
        "# Function to retrieve the logits (argument to softmax layers) from our model \n",
        "\n",
        "\n",
        "def get_softmax_args(X):\n",
        "    if np.ndim(X)==3:\n",
        "        X = X.reshape(1,28,28,1)\n",
        "        x = model.output.op.inputs[-1]\n",
        "        func = K.function([model.input] + [K.learning_phase()], [x])\n",
        "        softmax_output = np.array(func([X, 0.]))\n",
        "    else:\n",
        "        x = model.output.op.inputs[-1]\n",
        "        func = K.function([model.input] + [K.learning_phase()], [x])\n",
        "        softmax_output = np.array(func([X, 0.]))\n",
        "    return np.squeeze(softmax_output)\n",
        "\n",
        "\n",
        "# return a vector of shape (number of images * number of attacks, number of outputs(labels))"
      ],
      "execution_count": 0,
      "outputs": []
    },
    {
      "cell_type": "code",
      "metadata": {
        "id": "d4E1aVCIPXKe",
        "colab_type": "code",
        "colab": {
          "base_uri": "https://localhost:8080/",
          "height": 131
        },
        "outputId": "d8321761-2ecc-4b67-e478-5dfce3ff9a6c"
      },
      "source": [
        "\n",
        "fmodel = foolbox.models.KerasModel(model, bounds=(0,1)) # creating a foolbox model for an attack via KerasModel\n",
        "\n",
        "# Setting up a Newton attack with Misclassification criteria (vs targeted attack)\n",
        "attack=foolbox.attacks.NewtonFoolAttack(fmodel,criterion=Misclassification())\n",
        "\n",
        "# number of images to attacks\n",
        "num_sample = 1000\n",
        "\n",
        "# setting an empty list to retrieve adversarial images.\n",
        "adv_input = []\n",
        "\n",
        "\n",
        "# theta correspond to the number of different thetas (magnitude of the pertubation) we want to run the attack with.\n",
        "# Below, we want 20 different thetas from 0 (no pertubation) to 0.5.\n",
        "theta = np.linspace(0,.5,20)\n",
        "\n",
        "# looping across the 20 thetas values:\n",
        "for i in range (len(theta)):\n",
        "    \n",
        "    # looing across the number of images to attack\n",
        "    for j in range (len(x_test[:num_sample])):\n",
        "    \n",
        "        adversarial_all = attack(x_test[j],labels[j],eta=theta[i]) # running the attacks\n",
        "        \n",
        "        # if the attack is not effective => return the intial clean image instead\n",
        "        if np.size(adversarial_all) == 1:\n",
        "            adversarial_all = x_test[j].reshape(1,28,28,1)\n",
        "            adv_input.append(adversarial_all)\n",
        "        else:\n",
        "        # if the attack is successful return the adversarial images\n",
        "            adversarial_all = np.array(adversarial_all).reshape(1,28,28,1) # reshaping it for model prediction\n",
        " \n",
        "            adv_input.append(adversarial_all)\n",
        "    \n",
        "    \n",
        "# Note that here we run 20 NewtonFool attacks (one for each thetas) on 1000 images.\n",
        "# We want a vector of shape (20*1000,28,28,1)"
      ],
      "execution_count": 175,
      "outputs": [
        {
          "output_type": "stream",
          "text": [
            "/usr/local/lib/python3.6/dist-packages/foolbox/attacks/base.py:148: UserWarning: NewtonFoolAttack did not find an adversarial, maybe the model or the criterion is not supported by this attack.\n",
            "  ' attack.'.format(self.name()))\n",
            "/usr/local/lib/python3.6/dist-packages/foolbox/attacks/base.py:129: UserWarning: Not running the attack because the original input is already misclassified and the adversarial thus has a distance of 0.\n",
            "  warnings.warn('Not running the attack because the original input'\n"
          ],
          "name": "stderr"
        }
      ]
    },
    {
      "cell_type": "code",
      "metadata": {
        "id": "5K-jC0BjRFCY",
        "colab_type": "code",
        "colab": {
          "base_uri": "https://localhost:8080/",
          "height": 34
        },
        "outputId": "652d455e-3076-4350-db84-054b50af6062"
      },
      "source": [
        "# Retrieving logits from clean and adversarial samples\n",
        "\n",
        "samples_advs = np.array(adv_input).reshape(len(adv_input),28,28,1)\n",
        "args_clean = get_softmax_args(x_test)\n",
        "args_advs = get_softmax_args(samples_advs)\n",
        "args_advs.shape"
      ],
      "execution_count": 201,
      "outputs": [
        {
          "output_type": "execute_result",
          "data": {
            "text/plain": [
              "(20000, 10)"
            ]
          },
          "metadata": {
            "tags": []
          },
          "execution_count": 201
        }
      ]
    },
    {
      "cell_type": "code",
      "metadata": {
        "id": "OH_yhHoLnEo_",
        "colab_type": "code",
        "colab": {}
      },
      "source": [
        "\n",
        "# this function calculates the relative differences of logits scores as per the paper :\n",
        "#The Odds are Odd: A Statistical Test for Detecting Adversarial Examples, Kevin Roth,Yannic Kilcher, Thomas Hofmann.\n",
        "\n",
        "\n",
        "def advs_latent_diff_new(args_advs):\n",
        "\n",
        "    adv_reor = args_advs.reshape(len(true_test),len(theta),10)\n",
        "\n",
        "    diff_advs = []\n",
        "\n",
        "    #for j in range(10):\n",
        "    for i in range(len(adv_reor)):\n",
        "        for k in range (adv_reor.shape[1]):\n",
        "            for l in range (10):\n",
        "                diff_advs.append(np.mean(adv_reor[i][k] - adv_reor[i][k][l],axis=-1))\n",
        "                \n",
        "    difference_advs = np.array(diff_advs) # we append these scores differences in a numpy array.       \n",
        "    return difference_advs"
      ],
      "execution_count": 0,
      "outputs": []
    },
    {
      "cell_type": "code",
      "metadata": {
        "id": "c1Zp14ClnH_n",
        "colab_type": "code",
        "colab": {}
      },
      "source": [
        "# Same as above but for clean examples \n",
        "\n",
        "def true_latent_diff_new(args_clean):\n",
        "    diff_true = [] \n",
        "    \n",
        "    for i in range(len(args_clean)):\n",
        "        for l in range(10):\n",
        "            diff_true.append(np.mean(args_clean[i] - args_clean[i][l],axis=-1))\n",
        "                \n",
        "    difference_clean = np.array(diff_true)\n",
        "    return difference_clean"
      ],
      "execution_count": 0,
      "outputs": []
    },
    {
      "cell_type": "code",
      "metadata": {
        "id": "uUt6IJ4BWKEd",
        "colab_type": "code",
        "colab": {
          "base_uri": "https://localhost:8080/",
          "height": 68
        },
        "outputId": "9b840e5f-427a-4f0a-c66a-0f88d99ce948"
      },
      "source": [
        "\n",
        "# getting logits differences for clean samples.\n",
        "true_test = get_softmax_args(x_test[:num_sample])\n",
        "xtest_diff = true_latent_diff_new(true_test).reshape(num_sample,10)\n",
        "\n",
        "print(xtest_diff.shape)\n",
        "\n",
        "\n",
        "\n",
        "# getting logits differences for adversarials samples.\n",
        "advs_diff = advs_latent_diff_new(args_advs)\n",
        "resh = np.array(advs_diff).reshape(len(true_test),len(theta),10)\n",
        "advs_diff_redim = np.mean(resh,axis=1)\n",
        "\n",
        "print(advs_diff_redim.shape)\n",
        "print(resh.shape)"
      ],
      "execution_count": 178,
      "outputs": [
        {
          "output_type": "stream",
          "text": [
            "(1000, 10)\n",
            "(1000, 10)\n",
            "(1000, 20, 10)\n"
          ],
          "name": "stdout"
        }
      ]
    },
    {
      "cell_type": "code",
      "metadata": {
        "id": "A51mczdGRl5d",
        "colab_type": "code",
        "colab": {
          "base_uri": "https://localhost:8080/",
          "height": 159
        },
        "outputId": "0eb79436-730e-4c49-b25e-85d9d78ed9c8"
      },
      "source": [
        "# Training a classifier with adversarial logits differences defined above.\n",
        "\n",
        "from sklearn import svm\n",
        "rbf_svc = svm.SVC(kernel='rbf')\n",
        "rbf_svc.fit(advs_diff_redim, labels[:num_sample]) # TRAINED ONLY WITH THE LOGITS DIFERENCES OF THE NEWTOW-FOOL ATTACK"
      ],
      "execution_count": 179,
      "outputs": [
        {
          "output_type": "stream",
          "text": [
            "/usr/local/lib/python3.6/dist-packages/sklearn/svm/base.py:193: FutureWarning: The default value of gamma will change from 'auto' to 'scale' in version 0.22 to account better for unscaled features. Set gamma explicitly to 'auto' or 'scale' to avoid this warning.\n",
            "  \"avoid this warning.\", FutureWarning)\n"
          ],
          "name": "stderr"
        },
        {
          "output_type": "execute_result",
          "data": {
            "text/plain": [
              "SVC(C=1.0, cache_size=200, class_weight=None, coef0=0.0,\n",
              "    decision_function_shape='ovr', degree=3, gamma='auto_deprecated',\n",
              "    kernel='rbf', max_iter=-1, probability=False, random_state=None,\n",
              "    shrinking=True, tol=0.001, verbose=False)"
            ]
          },
          "metadata": {
            "tags": []
          },
          "execution_count": 179
        }
      ]
    },
    {
      "cell_type": "code",
      "metadata": {
        "id": "dUs6QgqLP6cd",
        "colab_type": "code",
        "colab": {}
      },
      "source": [
        "# this fonction first calcule the Z_score of the logits difference and then add a condition to define whether it is an adversarial or a clean examples.\n",
        "\n",
        "\n",
        "def advs_detection_and_correction(testset, threshold):\n",
        "    from scipy import stats\n",
        "    from sklearn.metrics import accuracy_score\n",
        "    cl = []\n",
        "    L2_dist = []\n",
        "    for i in range(len(testset)):\n",
        "        cl.append(np.max(stats.zscore(testset[i]) - threshold)) # Calculate the Z_score stats of the logits differences. \n",
        "    index_clean = []\n",
        "    index_adv = []\n",
        "    for i in range(len(cl)):\n",
        "        if cl[i]>=0: \n",
        "            index_clean.append(i)#if max Z_score for a particular image is above 0 then it is considered clean and we keep the index in the index_clean list\n",
        "        else:\n",
        "            index_adv.append(i)# if not then it is an adversarial examples and we keep the index in index_adv.\n",
        "\n",
        "    # calculate prediction if input is clean with our initial model.       \n",
        "    pred_y = model.predict_classes(x_test[index_clean])\n",
        "    acc_clean = accuracy_score(labels[index_clean],pred_y)\n",
        "    \n",
        "    \n",
        "    # calculate prediction if input is adversarial with our SVM classifier trained on adversarial logits.  \n",
        "    pred_adv = rbf_svc.predict(testset[index_adv])\n",
        "    acc_adv = accuracy_score(labels[index_adv],pred_adv)\n",
        "  \n",
        "    return acc_clean, acc_adv,len(index_adv),len(index_clean) "
      ],
      "execution_count": 0,
      "outputs": []
    },
    {
      "cell_type": "code",
      "metadata": {
        "id": "OS7KajGKP8u6",
        "colab_type": "code",
        "colab": {}
      },
      "source": [
        "# calculate the accuracy for a mixture of adversarial and clean examples.\n",
        "\n",
        "\n",
        "def global_accuracy(args_difference):\n",
        "    acc_clean, acc_pert, n_adv, n_clean = advs_detection_and_correction(args_difference,threshold = 1.054) # need to find the best threshold but 1.054 is good\n",
        "    \n",
        "    global_acc = (n_clean/len(args_difference))*acc_clean + (n_adv/len(args_difference))*acc_pert\n",
        "\n",
        "    return global_acc"
      ],
      "execution_count": 0,
      "outputs": []
    },
    {
      "cell_type": "code",
      "metadata": {
        "id": "b8G8bMSRP-uD",
        "colab_type": "code",
        "colab": {
          "base_uri": "https://localhost:8080/",
          "height": 374
        },
        "outputId": "32801772-4a29-484b-83a7-9178c53676d7"
      },
      "source": [
        "print('Accuracy on 100% clean test set is ' + str(global_accuracy(xtest_diff)))\n",
        "\n",
        "for i in range (resh.shape[1]):\n",
        "    print('Accuracy on 100% advs test set is ' + str(global_accuracy(resh[:,i,:])))"
      ],
      "execution_count": 196,
      "outputs": [
        {
          "output_type": "stream",
          "text": [
            "Accuracy on 100% clean test set is 0.747\n",
            "Accuracy on 100% advs test set is 0.903\n",
            "Accuracy on 100% advs test set is 0.883\n",
            "Accuracy on 100% advs test set is 0.907\n",
            "Accuracy on 100% advs test set is 0.876\n",
            "Accuracy on 100% advs test set is 0.9\n",
            "Accuracy on 100% advs test set is 0.925\n",
            "Accuracy on 100% advs test set is 0.913\n",
            "Accuracy on 100% advs test set is 0.903\n",
            "Accuracy on 100% advs test set is 0.896\n",
            "Accuracy on 100% advs test set is 0.906\n",
            "Accuracy on 100% advs test set is 0.887\n",
            "Accuracy on 100% advs test set is 0.897\n",
            "Accuracy on 100% advs test set is 0.894\n",
            "Accuracy on 100% advs test set is 0.919\n",
            "Accuracy on 100% advs test set is 0.882\n",
            "Accuracy on 100% advs test set is 0.897\n",
            "Accuracy on 100% advs test set is 0.909\n",
            "Accuracy on 100% advs test set is 0.944\n",
            "Accuracy on 100% advs test set is 0.833\n",
            "Accuracy on 100% advs test set is 0.935\n"
          ],
          "name": "stdout"
        }
      ]
    },
    {
      "cell_type": "code",
      "metadata": {
        "id": "Za5sBlAwSFA2",
        "colab_type": "code",
        "colab": {
          "base_uri": "https://localhost:8080/",
          "height": 357
        },
        "outputId": "c7fbe696-64c4-4835-e73e-9f180a07fb26"
      },
      "source": [
        "L2_dist = []\n",
        "score_adv = []\n",
        "\n",
        "reshaped_adv = np.array(adv_input).reshape(len(theta)*num_sample,28,28,1)\n",
        "adv_test = np.zeros((len(theta),num_sample,28,28,1))\n",
        "for i in range(len(theta)):\n",
        "    adv_test[i] = reshaped_adv[i*num_sample:(i+1)*num_sample]\n",
        "    score_adv.append(model.evaluate(adv_test[i], y_test[:num_sample])[1]) # Calculate the accuracy of our model with NO defense.\n",
        "    L2_dist.append((1/num_sample)*np.sum((adv_test[i] - x_test[:num_sample])**2)) # Calculate the L2 distance."
      ],
      "execution_count": 197,
      "outputs": [
        {
          "output_type": "stream",
          "text": [
            "1000/1000 [==============================] - 0s 74us/step\n",
            "1000/1000 [==============================] - 0s 70us/step\n",
            "1000/1000 [==============================] - 0s 83us/step\n",
            "1000/1000 [==============================] - 0s 74us/step\n",
            "1000/1000 [==============================] - 0s 72us/step\n",
            "1000/1000 [==============================] - 0s 66us/step\n",
            "1000/1000 [==============================] - 0s 70us/step\n",
            "1000/1000 [==============================] - 0s 69us/step\n",
            "1000/1000 [==============================] - 0s 68us/step\n",
            "1000/1000 [==============================] - 0s 69us/step\n",
            "1000/1000 [==============================] - 0s 68us/step\n",
            "1000/1000 [==============================] - 0s 72us/step\n",
            "1000/1000 [==============================] - 0s 68us/step\n",
            "1000/1000 [==============================] - 0s 68us/step\n",
            "1000/1000 [==============================] - 0s 67us/step\n",
            "1000/1000 [==============================] - 0s 79us/step\n",
            "1000/1000 [==============================] - 0s 67us/step\n",
            "1000/1000 [==============================] - 0s 70us/step\n",
            "1000/1000 [==============================] - 0s 71us/step\n",
            "1000/1000 [==============================] - 0s 68us/step\n"
          ],
          "name": "stdout"
        }
      ]
    },
    {
      "cell_type": "code",
      "metadata": {
        "id": "kVdtC0iFShVP",
        "colab_type": "code",
        "colab": {}
      },
      "source": [
        "# Calculate the accuracy of our model WITH the logits detection and correction defense and appending it for plotting.\n",
        "\n",
        "advs_accuracy = []\n",
        "\n",
        "for i in range (resh.shape[1]):\n",
        "    advs_accuracy.append(global_accuracy(resh[:,i,:]))\n",
        "    \n",
        "  "
      ],
      "execution_count": 0,
      "outputs": []
    },
    {
      "cell_type": "code",
      "metadata": {
        "id": "MfU_0QSqZ6uX",
        "colab_type": "code",
        "colab": {
          "base_uri": "https://localhost:8080/",
          "height": 514
        },
        "outputId": "846cf301-30dc-475d-df0b-39a162cf9ad7"
      },
      "source": [
        "# plotting the two lines for comparison.\n",
        "\n",
        "\n",
        "fig = plt.figure(figsize=(10,8))\n",
        "ax = plt.subplot(111)\n",
        "#plt.plot(L2_dist,score_adv,'--')\n",
        "ax.plot(L2_dist,score_adv, \"r--\", label=\"NewtonFool clean\")\n",
        "ax.plot(L2_dist,advs_accuracy, \"b--\", label=\"NewtonFool log-odds corrected\")\n",
        "ax.legend(loc='best',prop={'size': 12})\n",
        "plt.xlabel('L2_distance')\n",
        "plt.ylabel('accuracy')\n",
        "plt.title('accuracy vs L2 distance')\n",
        "\n",
        "plt.show()"
      ],
      "execution_count": 199,
      "outputs": [
        {
          "output_type": "display_data",
          "data": {
            "image/png": "[encoded data removed]",
            "text/plain": [
              "<Figure size 720x576 with 1 Axes>"
            ]
          },
          "metadata": {
            "tags": []
          }
        }
      ]
    }
  ]
}